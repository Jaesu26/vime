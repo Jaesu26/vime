{
  "cells": [
    {
      "cell_type": "markdown",
      "metadata": {
        "id": "view-in-github",
        "colab_type": "text"
      },
      "source": [
        "<a href=\"https://colab.research.google.com/github/Jaesu26/vime/blob/main/examples/mnist.ipynb\" target=\"_parent\"><img src=\"https://colab.research.google.com/assets/colab-badge.svg\" alt=\"Open In Colab\"/></a>"
      ]
    },
    {
      "cell_type": "markdown",
      "metadata": {
        "id": "75xRhMA-ZZ4g"
      },
      "source": [
        "# VIME Example"
      ]
    },
    {
      "cell_type": "markdown",
      "source": [
        "`-` An example to train VIME-Self and VIME-Semi using google colab gpu"
      ],
      "metadata": {
        "id": "6VoY9QtMugOt"
      }
    },
    {
      "cell_type": "markdown",
      "source": [
        "## Install VIME"
      ],
      "metadata": {
        "id": "URy6aEW-cIML"
      }
    },
    {
      "cell_type": "code",
      "execution_count": 1,
      "metadata": {
        "colab": {
          "base_uri": "https://localhost:8080/"
        },
        "id": "GjvmmVOVMW_P",
        "outputId": "5d3fe939-be26-4e67-e4e5-7e8052c49c59"
      },
      "outputs": [
        {
          "output_type": "stream",
          "name": "stdout",
          "text": [
            "Mounted at /content/drive\n"
          ]
        }
      ],
      "source": [
        "from google.colab import drive\n",
        "\n",
        "drive.mount(\"/content/drive\")"
      ]
    },
    {
      "cell_type": "code",
      "source": [
        "%cd /content/drive/MyDrive/Colab Notebooks/vime"
      ],
      "metadata": {
        "colab": {
          "base_uri": "https://localhost:8080/"
        },
        "id": "vcJwBS1jt4J2",
        "outputId": "e48933b9-99f6-4468-b0c6-008498ab244e"
      },
      "execution_count": 2,
      "outputs": [
        {
          "output_type": "stream",
          "name": "stdout",
          "text": [
            "/content/drive/MyDrive/Colab Notebooks/vime\n"
          ]
        }
      ]
    },
    {
      "cell_type": "code",
      "source": [
        "!pip install git+https://github.com/Jaesu26/vime.git"
      ],
      "metadata": {
        "colab": {
          "base_uri": "https://localhost:8080/"
        },
        "id": "_ncytT-2biR8",
        "outputId": "dc7bd675-2086-4e8f-f49c-a090708d83f5"
      },
      "execution_count": 3,
      "outputs": [
        {
          "output_type": "stream",
          "name": "stdout",
          "text": [
            "Collecting git+https://github.com/Jaesu26/vime.git\n",
            "  Cloning https://github.com/Jaesu26/vime.git to /tmp/pip-req-build-s62c5uoq\n",
            "  Running command git clone --filter=blob:none --quiet https://github.com/Jaesu26/vime.git /tmp/pip-req-build-s62c5uoq\n",
            "  Resolved https://github.com/Jaesu26/vime.git to commit 23de7979363720f8811ea7cdc1f82dc802bbb828\n",
            "  Installing build dependencies ... \u001b[?25l\u001b[?25hdone\n",
            "  Getting requirements to build wheel ... \u001b[?25l\u001b[?25hdone\n",
            "  Preparing metadata (pyproject.toml) ... \u001b[?25l\u001b[?25hdone\n",
            "Requirement already satisfied: numpy>=1.18.2 in /usr/local/lib/python3.10/dist-packages (from vime==0.0.1) (1.26.4)\n",
            "Requirement already satisfied: torch>=2.0.0 in /usr/local/lib/python3.10/dist-packages (from vime==0.0.1) (2.4.1+cu121)\n",
            "Collecting torchmetrics>=0.11.3 (from vime==0.0.1)\n",
            "  Downloading torchmetrics-1.4.2-py3-none-any.whl.metadata (19 kB)\n",
            "Collecting lightning>=2.0.0 (from vime==0.0.1)\n",
            "  Downloading lightning-2.4.0-py3-none-any.whl.metadata (38 kB)\n",
            "Requirement already satisfied: scikit-learn>=1.1.0 in /usr/local/lib/python3.10/dist-packages (from vime==0.0.1) (1.5.2)\n",
            "Requirement already satisfied: PyYAML<8.0,>=5.4 in /usr/local/lib/python3.10/dist-packages (from lightning>=2.0.0->vime==0.0.1) (6.0.2)\n",
            "Requirement already satisfied: fsspec<2026.0,>=2022.5.0 in /usr/local/lib/python3.10/dist-packages (from fsspec[http]<2026.0,>=2022.5.0->lightning>=2.0.0->vime==0.0.1) (2024.6.1)\n",
            "Collecting lightning-utilities<2.0,>=0.10.0 (from lightning>=2.0.0->vime==0.0.1)\n",
            "  Downloading lightning_utilities-0.11.7-py3-none-any.whl.metadata (5.2 kB)\n",
            "Requirement already satisfied: packaging<25.0,>=20.0 in /usr/local/lib/python3.10/dist-packages (from lightning>=2.0.0->vime==0.0.1) (24.1)\n",
            "Requirement already satisfied: tqdm<6.0,>=4.57.0 in /usr/local/lib/python3.10/dist-packages (from lightning>=2.0.0->vime==0.0.1) (4.66.5)\n",
            "Requirement already satisfied: typing-extensions<6.0,>=4.4.0 in /usr/local/lib/python3.10/dist-packages (from lightning>=2.0.0->vime==0.0.1) (4.12.2)\n",
            "Collecting pytorch-lightning (from lightning>=2.0.0->vime==0.0.1)\n",
            "  Downloading pytorch_lightning-2.4.0-py3-none-any.whl.metadata (21 kB)\n",
            "Requirement already satisfied: scipy>=1.6.0 in /usr/local/lib/python3.10/dist-packages (from scikit-learn>=1.1.0->vime==0.0.1) (1.13.1)\n",
            "Requirement already satisfied: joblib>=1.2.0 in /usr/local/lib/python3.10/dist-packages (from scikit-learn>=1.1.0->vime==0.0.1) (1.4.2)\n",
            "Requirement already satisfied: threadpoolctl>=3.1.0 in /usr/local/lib/python3.10/dist-packages (from scikit-learn>=1.1.0->vime==0.0.1) (3.5.0)\n",
            "Requirement already satisfied: filelock in /usr/local/lib/python3.10/dist-packages (from torch>=2.0.0->vime==0.0.1) (3.16.1)\n",
            "Requirement already satisfied: sympy in /usr/local/lib/python3.10/dist-packages (from torch>=2.0.0->vime==0.0.1) (1.13.3)\n",
            "Requirement already satisfied: networkx in /usr/local/lib/python3.10/dist-packages (from torch>=2.0.0->vime==0.0.1) (3.3)\n",
            "Requirement already satisfied: jinja2 in /usr/local/lib/python3.10/dist-packages (from torch>=2.0.0->vime==0.0.1) (3.1.4)\n",
            "Requirement already satisfied: aiohttp!=4.0.0a0,!=4.0.0a1 in /usr/local/lib/python3.10/dist-packages (from fsspec[http]<2026.0,>=2022.5.0->lightning>=2.0.0->vime==0.0.1) (3.10.5)\n",
            "Requirement already satisfied: setuptools in /usr/local/lib/python3.10/dist-packages (from lightning-utilities<2.0,>=0.10.0->lightning>=2.0.0->vime==0.0.1) (71.0.4)\n",
            "Requirement already satisfied: MarkupSafe>=2.0 in /usr/local/lib/python3.10/dist-packages (from jinja2->torch>=2.0.0->vime==0.0.1) (2.1.5)\n",
            "Requirement already satisfied: mpmath<1.4,>=1.1.0 in /usr/local/lib/python3.10/dist-packages (from sympy->torch>=2.0.0->vime==0.0.1) (1.3.0)\n",
            "Requirement already satisfied: aiohappyeyeballs>=2.3.0 in /usr/local/lib/python3.10/dist-packages (from aiohttp!=4.0.0a0,!=4.0.0a1->fsspec[http]<2026.0,>=2022.5.0->lightning>=2.0.0->vime==0.0.1) (2.4.0)\n",
            "Requirement already satisfied: aiosignal>=1.1.2 in /usr/local/lib/python3.10/dist-packages (from aiohttp!=4.0.0a0,!=4.0.0a1->fsspec[http]<2026.0,>=2022.5.0->lightning>=2.0.0->vime==0.0.1) (1.3.1)\n",
            "Requirement already satisfied: attrs>=17.3.0 in /usr/local/lib/python3.10/dist-packages (from aiohttp!=4.0.0a0,!=4.0.0a1->fsspec[http]<2026.0,>=2022.5.0->lightning>=2.0.0->vime==0.0.1) (24.2.0)\n",
            "Requirement already satisfied: frozenlist>=1.1.1 in /usr/local/lib/python3.10/dist-packages (from aiohttp!=4.0.0a0,!=4.0.0a1->fsspec[http]<2026.0,>=2022.5.0->lightning>=2.0.0->vime==0.0.1) (1.4.1)\n",
            "Requirement already satisfied: multidict<7.0,>=4.5 in /usr/local/lib/python3.10/dist-packages (from aiohttp!=4.0.0a0,!=4.0.0a1->fsspec[http]<2026.0,>=2022.5.0->lightning>=2.0.0->vime==0.0.1) (6.1.0)\n",
            "Requirement already satisfied: yarl<2.0,>=1.0 in /usr/local/lib/python3.10/dist-packages (from aiohttp!=4.0.0a0,!=4.0.0a1->fsspec[http]<2026.0,>=2022.5.0->lightning>=2.0.0->vime==0.0.1) (1.11.1)\n",
            "Requirement already satisfied: async-timeout<5.0,>=4.0 in /usr/local/lib/python3.10/dist-packages (from aiohttp!=4.0.0a0,!=4.0.0a1->fsspec[http]<2026.0,>=2022.5.0->lightning>=2.0.0->vime==0.0.1) (4.0.3)\n",
            "Requirement already satisfied: idna>=2.0 in /usr/local/lib/python3.10/dist-packages (from yarl<2.0,>=1.0->aiohttp!=4.0.0a0,!=4.0.0a1->fsspec[http]<2026.0,>=2022.5.0->lightning>=2.0.0->vime==0.0.1) (3.10)\n",
            "Downloading lightning-2.4.0-py3-none-any.whl (810 kB)\n",
            "\u001b[2K   \u001b[90m━━━━━━━━━━━━━━━━━━━━━━━━━━━━━━━━━━━━━━━━\u001b[0m \u001b[32m811.0/811.0 kB\u001b[0m \u001b[31m47.0 MB/s\u001b[0m eta \u001b[36m0:00:00\u001b[0m\n",
            "\u001b[?25hDownloading torchmetrics-1.4.2-py3-none-any.whl (869 kB)\n",
            "\u001b[2K   \u001b[90m━━━━━━━━━━━━━━━━━━━━━━━━━━━━━━━━━━━━━━━━\u001b[0m \u001b[32m869.2/869.2 kB\u001b[0m \u001b[31m47.4 MB/s\u001b[0m eta \u001b[36m0:00:00\u001b[0m\n",
            "\u001b[?25hDownloading lightning_utilities-0.11.7-py3-none-any.whl (26 kB)\n",
            "Downloading pytorch_lightning-2.4.0-py3-none-any.whl (815 kB)\n",
            "\u001b[2K   \u001b[90m━━━━━━━━━━━━━━━━━━━━━━━━━━━━━━━━━━━━━━━━\u001b[0m \u001b[32m815.2/815.2 kB\u001b[0m \u001b[31m50.7 MB/s\u001b[0m eta \u001b[36m0:00:00\u001b[0m\n",
            "\u001b[?25hBuilding wheels for collected packages: vime\n",
            "  Building wheel for vime (pyproject.toml) ... \u001b[?25l\u001b[?25hdone\n",
            "  Created wheel for vime: filename=vime-0.0.1-py3-none-any.whl size=10613 sha256=2892d77991a5fe5ca6425ab95305c1b95f8f3aa6f0beb1757669c8e2cc881774\n",
            "  Stored in directory: /tmp/pip-ephem-wheel-cache-gxq5ox14/wheels/ef/18/af/536655f577a9f4cd8194e69814e6f665db853d66f822393254\n",
            "Successfully built vime\n",
            "Installing collected packages: lightning-utilities, torchmetrics, pytorch-lightning, lightning, vime\n",
            "Successfully installed lightning-2.4.0 lightning-utilities-0.11.7 pytorch-lightning-2.4.0 torchmetrics-1.4.2 vime-0.0.1\n"
          ]
        }
      ]
    },
    {
      "cell_type": "markdown",
      "metadata": {
        "id": "68xM6jF0ZchA"
      },
      "source": [
        "## Prepare MNIST"
      ]
    },
    {
      "cell_type": "code",
      "source": [
        "import os\n",
        "import random\n",
        "import warnings\n",
        "\n",
        "import easydict\n",
        "import numpy as np\n",
        "import torch\n",
        "import torch.nn as nn\n",
        "\n",
        "warnings.filterwarnings(\"ignore\")"
      ],
      "metadata": {
        "id": "3d2SUG3UcRka"
      },
      "execution_count": 4,
      "outputs": []
    },
    {
      "cell_type": "markdown",
      "metadata": {
        "id": "NN7RHXuYr88l"
      },
      "source": [
        "- Hyperparameters"
      ]
    },
    {
      "cell_type": "code",
      "execution_count": 5,
      "metadata": {
        "id": "ZBe2gEgzr-q1"
      },
      "outputs": [],
      "source": [
        "args_mlp = easydict.EasyDict({\n",
        "    \"weights_dirpath\": \"./mlp_weights\",\n",
        "    \"num_classes\": 10,\n",
        "    \"max_epochs\": 100,\n",
        "    \"batch_size\": 64,\n",
        "    \"train_size\": 0.9,\n",
        "    \"lr\": 1e-3,\n",
        "    \"log_interval\": 5,\n",
        "    \"seed\": 26,\n",
        "})\n",
        "args_self = easydict.EasyDict({\n",
        "    \"weights_dirpath\": \"./vimeself_weights\",\n",
        "    \"max_epochs\": 10,\n",
        "    \"batch_size\": 512,\n",
        "    \"train_size\": 0.9,\n",
        "    \"lr\": 1e-2,\n",
        "    \"p_masking\": 0.3,\n",
        "    \"alpha\": 2.0,\n",
        "    \"log_interval\": 5,\n",
        "    \"seed\": 26,\n",
        "})\n",
        "args_semi = easydict.EasyDict({\n",
        "    \"weights_dirpath\": \"./vimesemi_weights\",\n",
        "    \"num_classes\": 10,\n",
        "    \"supervised_criterion\": nn.CrossEntropyLoss(),\n",
        "    \"max_epochs\": 100,\n",
        "    \"labeled_batch_size\": 64,\n",
        "    \"unlabeled_batch_size\": 512,\n",
        "    \"train_size\": 0.9,\n",
        "    \"lr\": 1e-3,\n",
        "    \"p_masking\": 0.3,\n",
        "    \"K\": 3,\n",
        "    \"beta\": 1.0,\n",
        "    \"log_interval\": 5,\n",
        "    \"seed\": 26,\n",
        "})"
      ]
    },
    {
      "cell_type": "code",
      "source": [
        "def create_folder(path: str) -> None:\n",
        "    try:\n",
        "        if not os.path.exists(path):\n",
        "            os.makedirs(path)\n",
        "    except OSError as error:\n",
        "        print(error)"
      ],
      "metadata": {
        "id": "sAAMbpDRqGj9"
      },
      "execution_count": 6,
      "outputs": []
    },
    {
      "cell_type": "code",
      "source": [
        "create_folder(args_mlp.weights_dirpath)\n",
        "create_folder(args_self.weights_dirpath)\n",
        "create_folder(args_semi.weights_dirpath)"
      ],
      "metadata": {
        "id": "7q8cqk7NqH_1"
      },
      "execution_count": 7,
      "outputs": []
    },
    {
      "cell_type": "markdown",
      "metadata": {
        "id": "MRrJ4A5RKC4B"
      },
      "source": [
        "- Load data"
      ]
    },
    {
      "cell_type": "code",
      "source": [
        "import sklearn\n",
        "from sklearn.datasets import fetch_openml\n",
        "from sklearn.model_selection import train_test_split"
      ],
      "metadata": {
        "id": "yz7eminncyb4"
      },
      "execution_count": 8,
      "outputs": []
    },
    {
      "cell_type": "code",
      "source": [
        "mnist = fetch_openml(\"mnist_784\")"
      ],
      "metadata": {
        "id": "N7JdJZofCXED"
      },
      "execution_count": 9,
      "outputs": []
    },
    {
      "cell_type": "code",
      "source": [
        "data = mnist.data.values\n",
        "target = mnist.target.astype(int).values"
      ],
      "metadata": {
        "id": "CUujD6TFjqVs"
      },
      "execution_count": 10,
      "outputs": []
    },
    {
      "cell_type": "code",
      "source": [
        "data = data / 255.0"
      ],
      "metadata": {
        "id": "ntszm4Asie8P"
      },
      "execution_count": 11,
      "outputs": []
    },
    {
      "cell_type": "code",
      "source": [
        "data.shape"
      ],
      "metadata": {
        "colab": {
          "base_uri": "https://localhost:8080/"
        },
        "id": "wW-c3ndVjH9e",
        "outputId": "1c16076b-695a-4665-ae73-ec3892d67713"
      },
      "execution_count": 12,
      "outputs": [
        {
          "output_type": "execute_result",
          "data": {
            "text/plain": [
              "(70000, 784)"
            ]
          },
          "metadata": {},
          "execution_count": 12
        }
      ]
    },
    {
      "cell_type": "markdown",
      "source": [
        "- Split data"
      ],
      "metadata": {
        "id": "VyAxwzdFiJpv"
      }
    },
    {
      "cell_type": "code",
      "source": [
        "num_labeled_data_used = 1000\n",
        "unlabeled_data_rate = 0.9\n",
        "seed = 26"
      ],
      "metadata": {
        "id": "mvJecY3xh56g"
      },
      "execution_count": 13,
      "outputs": []
    },
    {
      "cell_type": "code",
      "source": [
        "X, X_test, y, y_test = train_test_split(data, target, test_size=1/7, random_state=seed, stratify=target)"
      ],
      "metadata": {
        "id": "2WHvI1h1rW3p"
      },
      "execution_count": 14,
      "outputs": []
    },
    {
      "cell_type": "code",
      "source": [
        "X_labeled, X_unlabeled, y, _ = train_test_split(X, y, test_size=unlabeled_data_rate, random_state=seed, stratify=y)"
      ],
      "metadata": {
        "id": "T3ADeqVXrpV5"
      },
      "execution_count": 15,
      "outputs": []
    },
    {
      "cell_type": "code",
      "source": [
        "X_labeled = X_labeled[:num_labeled_data_used]\n",
        "y = y[:num_labeled_data_used]"
      ],
      "metadata": {
        "id": "AQIirdQvsh0I"
      },
      "execution_count": 16,
      "outputs": []
    },
    {
      "cell_type": "markdown",
      "source": [
        "## Supervised Model"
      ],
      "metadata": {
        "id": "Qku-9G9uX-ao"
      }
    },
    {
      "cell_type": "code",
      "source": [
        "import lightning.pytorch as pl\n",
        "from lightning.pytorch.callbacks import EarlyStopping, ModelCheckpoint\n",
        "from sklearn.metrics import accuracy_score\n",
        "from vime.datamodules import LabeledDataModule\n",
        "from vime.lightningmodules import MLPClassifier"
      ],
      "metadata": {
        "id": "vQo6GkJqUDgi"
      },
      "execution_count": 17,
      "outputs": []
    },
    {
      "cell_type": "markdown",
      "source": [
        "- Create datamodule and model"
      ],
      "metadata": {
        "id": "ruYWDsF4aGeW"
      }
    },
    {
      "cell_type": "code",
      "source": [
        "dim = X_labeled.shape[1]"
      ],
      "metadata": {
        "id": "V4jkchdNZsY2"
      },
      "execution_count": 18,
      "outputs": []
    },
    {
      "cell_type": "code",
      "source": [
        "labeled_datamodule = LabeledDataModule(\n",
        "    X_labeled, y, X_test,\n",
        "    train_size=args_mlp.train_size,\n",
        "    batch_size=args_mlp.batch_size,\n",
        "    seed=args_mlp.seed,\n",
        ")"
      ],
      "metadata": {
        "id": "PmSvyN-5SE5t"
      },
      "execution_count": 19,
      "outputs": []
    },
    {
      "cell_type": "code",
      "source": [
        "mlp_classifier = MLPClassifier(\n",
        "    input_dim=dim,\n",
        "    hidden_dims=[256, 128, 64],\n",
        "    num_classes=args_mlp.num_classes,\n",
        "    lr=args_mlp.lr,\n",
        "    log_interval=args_mlp.log_interval,\n",
        "    seed=args_mlp.seed,\n",
        ")"
      ],
      "metadata": {
        "id": "R_OFe4CI5Unw",
        "colab": {
          "base_uri": "https://localhost:8080/"
        },
        "outputId": "5e9d3d96-0ad6-4e3b-ae93-b8398b1e97bd"
      },
      "execution_count": 20,
      "outputs": [
        {
          "output_type": "stream",
          "name": "stderr",
          "text": [
            "INFO: Seed set to 26\n",
            "INFO:lightning.fabric.utilities.seed:Seed set to 26\n"
          ]
        }
      ]
    },
    {
      "cell_type": "markdown",
      "source": [
        "- Train supervised model"
      ],
      "metadata": {
        "id": "4DSj_GKnaMSe"
      }
    },
    {
      "cell_type": "code",
      "source": [
        "checkpoint = ModelCheckpoint(\n",
        "    dirpath=args_mlp.weights_dirpath,\n",
        "    filename=\"mlp\",\n",
        "    monitor=\"val_loss\",\n",
        "    mode=\"min\",\n",
        "    save_weights_only=True,\n",
        ")\n",
        "early_stop = EarlyStopping(\n",
        "    monitor=\"val_loss\",\n",
        "    patience=20,\n",
        "    mode=\"min\",\n",
        ")\n",
        "trainer = pl.Trainer(\n",
        "    accelerator=\"gpu\",\n",
        "    devices=1,\n",
        "    logger=False,\n",
        "    callbacks=[checkpoint, early_stop],\n",
        "    max_epochs=args_mlp.max_epochs,\n",
        "    num_sanity_val_steps=0,\n",
        "    enable_progress_bar=False,\n",
        "    enable_model_summary=False,\n",
        "    deterministic=True,\n",
        ")"
      ],
      "metadata": {
        "id": "Ls6dr95b4tPy",
        "colab": {
          "base_uri": "https://localhost:8080/"
        },
        "outputId": "7053f313-deee-4061-c7da-53bc072f6e58"
      },
      "execution_count": 21,
      "outputs": [
        {
          "output_type": "stream",
          "name": "stderr",
          "text": [
            "INFO: GPU available: True (cuda), used: True\n",
            "INFO:lightning.pytorch.utilities.rank_zero:GPU available: True (cuda), used: True\n",
            "INFO: TPU available: False, using: 0 TPU cores\n",
            "INFO:lightning.pytorch.utilities.rank_zero:TPU available: False, using: 0 TPU cores\n",
            "INFO: HPU available: False, using: 0 HPUs\n",
            "INFO:lightning.pytorch.utilities.rank_zero:HPU available: False, using: 0 HPUs\n"
          ]
        }
      ]
    },
    {
      "cell_type": "code",
      "source": [
        "trainer.fit(mlp_classifier, labeled_datamodule)"
      ],
      "metadata": {
        "colab": {
          "base_uri": "https://localhost:8080/"
        },
        "id": "GYsZODDyFwGd",
        "outputId": "6430105f-216c-49f3-c80e-18de8783f83b"
      },
      "execution_count": 22,
      "outputs": [
        {
          "output_type": "stream",
          "name": "stderr",
          "text": [
            "INFO: LOCAL_RANK: 0 - CUDA_VISIBLE_DEVICES: [0]\n",
            "INFO:lightning.pytorch.accelerators.cuda:LOCAL_RANK: 0 - CUDA_VISIBLE_DEVICES: [0]\n"
          ]
        },
        {
          "output_type": "stream",
          "name": "stdout",
          "text": [
            "Val Loss: 1.9018 | Val Macro Acc: 0.6945\n",
            "Epoch 1 | Train Loss: 1.5351  Val Loss: 0.7285 | Val Macro Acc: 0.8152\n",
            "Epoch 5 | Train Loss: 0.3352  Val Loss: 0.6142 | Val Macro Acc: 0.8197\n",
            "Epoch 10 | Train Loss: 0.1090  Val Loss: 0.5879 | Val Macro Acc: 0.8208\n",
            "Epoch 15 | Train Loss: 0.1373  Val Loss: 0.5575 | Val Macro Acc: 0.8271\n",
            "Epoch 20 | Train Loss: 0.0902  Val Loss: 0.6153 | Val Macro Acc: 0.8274\n",
            "Epoch 25 | Train Loss: 0.0700  Val Loss: 0.5352 | Val Macro Acc: 0.8063\n",
            "Epoch 30 | Train Loss: 0.1725  Val Loss: 0.5334 | Val Macro Acc: 0.8146\n",
            "Epoch 35 | Train Loss: 0.1954  Val Loss: 0.6503 | Val Macro Acc: 0.7774\n",
            "Epoch 40 | Train Loss: 0.0954  Val Loss: 0.6027 | Val Macro Acc: 0.7896\n",
            "Epoch 45 | Train Loss: 0.0734  Val Loss: 0.5819 | Val Macro Acc: 0.8015\n",
            "Epoch 50 | Train Loss: 0.0413  Val Loss: 0.5844 | Val Macro Acc: 0.8086\n",
            "Epoch 55 | Train Loss: 0.0333  "
          ]
        }
      ]
    },
    {
      "cell_type": "markdown",
      "source": [
        "- Test supervised model"
      ],
      "metadata": {
        "id": "0x862LyGWoP5"
      }
    },
    {
      "cell_type": "code",
      "source": [
        "pred = trainer.predict(mlp_classifier, labeled_datamodule, ckpt_path=\"best\")\n",
        "pred = np.concatenate(pred).argmax(1)"
      ],
      "metadata": {
        "id": "2MD3zmeJeRu3",
        "colab": {
          "base_uri": "https://localhost:8080/"
        },
        "outputId": "3a961e56-f696-45d6-9e40-e98b218ff4ac"
      },
      "execution_count": 23,
      "outputs": [
        {
          "output_type": "stream",
          "name": "stderr",
          "text": [
            "INFO: Restoring states from the checkpoint path at /content/drive/MyDrive/Colab Notebooks/vime/mlp_weights/mlp-v16.ckpt\n",
            "INFO:lightning.pytorch.utilities.rank_zero:Restoring states from the checkpoint path at /content/drive/MyDrive/Colab Notebooks/vime/mlp_weights/mlp-v16.ckpt\n",
            "INFO: LOCAL_RANK: 0 - CUDA_VISIBLE_DEVICES: [0]\n",
            "INFO:lightning.pytorch.accelerators.cuda:LOCAL_RANK: 0 - CUDA_VISIBLE_DEVICES: [0]\n",
            "INFO: Loaded model weights from the checkpoint at /content/drive/MyDrive/Colab Notebooks/vime/mlp_weights/mlp-v16.ckpt\n",
            "INFO:lightning.pytorch.utilities.rank_zero:Loaded model weights from the checkpoint at /content/drive/MyDrive/Colab Notebooks/vime/mlp_weights/mlp-v16.ckpt\n"
          ]
        }
      ]
    },
    {
      "cell_type": "code",
      "source": [
        "accuracy_score(y_test, pred)"
      ],
      "metadata": {
        "id": "-415DvwKeZEX",
        "colab": {
          "base_uri": "https://localhost:8080/"
        },
        "outputId": "62e5dd1c-cfac-440a-b96e-625d57267e81"
      },
      "execution_count": 24,
      "outputs": [
        {
          "output_type": "execute_result",
          "data": {
            "text/plain": [
              "0.8817"
            ]
          },
          "metadata": {},
          "execution_count": 24
        }
      ]
    },
    {
      "cell_type": "markdown",
      "source": [
        "## VIME"
      ],
      "metadata": {
        "id": "Sk00Z9pJiTUB"
      }
    },
    {
      "cell_type": "code",
      "source": [
        "from vime import VIMESelf, VIMESelfDataModule, VIMESemi, VIMESemiDataModule"
      ],
      "metadata": {
        "id": "mt9e_MtDS5nV"
      },
      "execution_count": 25,
      "outputs": []
    },
    {
      "cell_type": "markdown",
      "source": [
        "### VIME Self"
      ],
      "metadata": {
        "id": "9fPv2ys9lGrX"
      }
    },
    {
      "cell_type": "markdown",
      "source": [
        "- Create datamodule and model"
      ],
      "metadata": {
        "id": "wCKRinaBmf31"
      }
    },
    {
      "cell_type": "code",
      "source": [
        "dim = X_unlabeled.shape[1]"
      ],
      "metadata": {
        "id": "XUAY2nfcIgfq"
      },
      "execution_count": 26,
      "outputs": []
    },
    {
      "cell_type": "code",
      "source": [
        "self_datamodule = VIMESelfDataModule(\n",
        "    X_unlabeled,\n",
        "    train_size=args_self.train_size,\n",
        "    batch_size=args_self.batch_size,\n",
        "    seed=args_self.seed,\n",
        ")"
      ],
      "metadata": {
        "id": "R9QxnpdZJK_K"
      },
      "execution_count": 27,
      "outputs": []
    },
    {
      "cell_type": "code",
      "source": [
        "vime_self = VIMESelf(\n",
        "    input_dim=dim,\n",
        "    hidden_dims=[256, 128],\n",
        "    lr=args_self.lr,\n",
        "    p_masking=args_self.p_masking,\n",
        "    alpha=args_self.alpha,\n",
        "    log_interval=args_self.log_interval,\n",
        "    seed=args_self.seed,\n",
        ")"
      ],
      "metadata": {
        "colab": {
          "base_uri": "https://localhost:8080/"
        },
        "id": "G8OQbsLjl-LW",
        "outputId": "261186d7-5901-468f-a57b-f1d657549eb7"
      },
      "execution_count": 28,
      "outputs": [
        {
          "output_type": "stream",
          "name": "stderr",
          "text": [
            "INFO: Seed set to 26\n",
            "INFO:lightning.fabric.utilities.seed:Seed set to 26\n"
          ]
        }
      ]
    },
    {
      "cell_type": "markdown",
      "source": [
        "- Train vime self"
      ],
      "metadata": {
        "id": "YboyGahYLbtK"
      }
    },
    {
      "cell_type": "code",
      "source": [
        "checkpoint = ModelCheckpoint(\n",
        "    dirpath=args_self.weights_dirpath,\n",
        "    filename=\"vime_self\",\n",
        "    monitor=\"val_loss\",\n",
        "    mode=\"min\",\n",
        "    save_weights_only=True,\n",
        ")\n",
        "early_stop = EarlyStopping(\n",
        "    monitor=\"val_loss\",\n",
        "    patience=5,\n",
        "    mode=\"min\",\n",
        ")\n",
        "trainer = pl.Trainer(\n",
        "    accelerator=\"gpu\",\n",
        "    devices=1,\n",
        "    logger=False,\n",
        "    callbacks=[checkpoint, early_stop],\n",
        "    max_epochs=args_self.max_epochs,\n",
        "    num_sanity_val_steps=0,\n",
        "    enable_progress_bar=False,\n",
        "    enable_model_summary=False,\n",
        "    deterministic=True,\n",
        ")"
      ],
      "metadata": {
        "id": "-QQ0TjD6pgRE",
        "colab": {
          "base_uri": "https://localhost:8080/"
        },
        "outputId": "5cc382dd-5249-4341-a326-7980a90d3fea"
      },
      "execution_count": 29,
      "outputs": [
        {
          "output_type": "stream",
          "name": "stderr",
          "text": [
            "INFO: GPU available: True (cuda), used: True\n",
            "INFO:lightning.pytorch.utilities.rank_zero:GPU available: True (cuda), used: True\n",
            "INFO: TPU available: False, using: 0 TPU cores\n",
            "INFO:lightning.pytorch.utilities.rank_zero:TPU available: False, using: 0 TPU cores\n",
            "INFO: HPU available: False, using: 0 HPUs\n",
            "INFO:lightning.pytorch.utilities.rank_zero:HPU available: False, using: 0 HPUs\n"
          ]
        }
      ]
    },
    {
      "cell_type": "code",
      "source": [
        "trainer.fit(vime_self, self_datamodule)"
      ],
      "metadata": {
        "colab": {
          "base_uri": "https://localhost:8080/"
        },
        "id": "UWmpH4bvrZ6r",
        "outputId": "2cb6655f-26c7-4b4f-a2aa-74027e28a3d0"
      },
      "execution_count": 30,
      "outputs": [
        {
          "output_type": "stream",
          "name": "stderr",
          "text": [
            "INFO: LOCAL_RANK: 0 - CUDA_VISIBLE_DEVICES: [0]\n",
            "INFO:lightning.pytorch.accelerators.cuda:LOCAL_RANK: 0 - CUDA_VISIBLE_DEVICES: [0]\n"
          ]
        },
        {
          "output_type": "stream",
          "name": "stdout",
          "text": [
            "Val Loss: 0.1394 | Val Loss_m: 0.0923 | Val Loss_r: 0.0235\n",
            "Epoch 1 | Train Loss: 0.3249 | Train Loss_m: 0.2473 | Train Loss_r: 0.0388  Val Loss: 0.1125 | Val Loss_m: 0.0813 | Val Loss_r: 0.0156\n",
            "Epoch 5 | Train Loss: 0.2509 | Train Loss_m: 0.2172 | Train Loss_r: 0.0169  "
          ]
        },
        {
          "output_type": "stream",
          "name": "stderr",
          "text": [
            "INFO: `Trainer.fit` stopped: `max_epochs=10` reached.\n",
            "INFO:lightning.pytorch.utilities.rank_zero:`Trainer.fit` stopped: `max_epochs=10` reached.\n"
          ]
        },
        {
          "output_type": "stream",
          "name": "stdout",
          "text": [
            "Val Loss: 0.1093 | Val Loss_m: 0.0797 | Val Loss_r: 0.0148\n",
            "Epoch 10 | Train Loss: 0.2461 | Train Loss_m: 0.2149 | Train Loss_r: 0.0156  "
          ]
        }
      ]
    },
    {
      "cell_type": "code",
      "source": [
        "best_model_path = checkpoint.best_model_path"
      ],
      "metadata": {
        "id": "LA5UYnLG_jCa"
      },
      "execution_count": 31,
      "outputs": []
    },
    {
      "cell_type": "code",
      "source": [
        "vime_self_best = VIMESelf.load_from_checkpoint(best_model_path)"
      ],
      "metadata": {
        "colab": {
          "base_uri": "https://localhost:8080/"
        },
        "id": "nRq6_xiSivq8",
        "outputId": "14ef3514-f775-4200-f2fe-302cb4e65723"
      },
      "execution_count": 32,
      "outputs": [
        {
          "output_type": "stream",
          "name": "stderr",
          "text": [
            "INFO: Seed set to 26\n",
            "INFO:lightning.fabric.utilities.seed:Seed set to 26\n"
          ]
        }
      ]
    },
    {
      "cell_type": "code",
      "source": [
        "pretrained_encoder = vime_self_best.encoder"
      ],
      "metadata": {
        "id": "kbs1mKr8j1ar"
      },
      "execution_count": 33,
      "outputs": []
    },
    {
      "cell_type": "markdown",
      "source": [
        "- Train supervised model from pretrained encoder"
      ],
      "metadata": {
        "id": "vrUbZOYzWlGC"
      }
    },
    {
      "cell_type": "code",
      "source": [
        "with torch.no_grad():\n",
        "    Z = pretrained_encoder(torch.tensor(X_labeled, dtype=torch.float32).cuda())\n",
        "    Z_test = pretrained_encoder(torch.tensor(X_test, dtype=torch.float32).cuda())"
      ],
      "metadata": {
        "id": "17LF83fPqCFL"
      },
      "execution_count": 34,
      "outputs": []
    },
    {
      "cell_type": "code",
      "source": [
        "Z = Z.cpu().numpy()\n",
        "Z_test = Z_test.cpu().numpy()"
      ],
      "metadata": {
        "id": "WuNayirSHMe0"
      },
      "execution_count": 35,
      "outputs": []
    },
    {
      "cell_type": "code",
      "source": [
        "labeled_datamodule_from_unsupervised = LabeledDataModule(Z, y, Z_test, train_size=args_mlp.train_size, batch_size=args_mlp.batch_size, seed=args_mlp.seed)"
      ],
      "metadata": {
        "id": "e1aZzXjWqBtc"
      },
      "execution_count": 36,
      "outputs": []
    },
    {
      "cell_type": "code",
      "source": [
        "mlp_classifier = MLPClassifier(\n",
        "    input_dim=128,\n",
        "    hidden_dims=[128, 64],\n",
        "    num_classes=args_mlp.num_classes,\n",
        "    lr=args_mlp.lr,\n",
        "    seed=args_mlp.seed,\n",
        ")"
      ],
      "metadata": {
        "id": "IUk2pPpUXL7x",
        "colab": {
          "base_uri": "https://localhost:8080/"
        },
        "outputId": "fb8e3d9f-6b39-476a-89cc-2a909a528a73"
      },
      "execution_count": 37,
      "outputs": [
        {
          "output_type": "stream",
          "name": "stderr",
          "text": [
            "INFO: Seed set to 26\n",
            "INFO:lightning.fabric.utilities.seed:Seed set to 26\n"
          ]
        }
      ]
    },
    {
      "cell_type": "code",
      "source": [
        "checkpoint = ModelCheckpoint(\n",
        "    dirpath=args_mlp.weights_dirpath,\n",
        "    filename=\"mlp_from_unsupervised\",\n",
        "    monitor=\"val_loss\",\n",
        "    mode=\"min\",\n",
        "    save_weights_only=True,\n",
        ")\n",
        "early_stop = EarlyStopping(\n",
        "    monitor=\"val_loss\",\n",
        "    patience=10,\n",
        "    mode=\"min\",\n",
        ")\n",
        "trainer = pl.Trainer(\n",
        "    accelerator=\"gpu\",\n",
        "    devices=1,\n",
        "    logger=False,\n",
        "    callbacks=[checkpoint, early_stop],\n",
        "    max_epochs=args_mlp.max_epochs,\n",
        "    num_sanity_val_steps=0,\n",
        "    enable_progress_bar=False,\n",
        "    enable_model_summary=False,\n",
        "    deterministic=True,\n",
        ")"
      ],
      "metadata": {
        "id": "-BpUmQ5WSAAe",
        "colab": {
          "base_uri": "https://localhost:8080/"
        },
        "outputId": "d71cabe3-f38c-42d7-9a9c-3e47caf29647"
      },
      "execution_count": 38,
      "outputs": [
        {
          "output_type": "stream",
          "name": "stderr",
          "text": [
            "INFO: GPU available: True (cuda), used: True\n",
            "INFO:lightning.pytorch.utilities.rank_zero:GPU available: True (cuda), used: True\n",
            "INFO: TPU available: False, using: 0 TPU cores\n",
            "INFO:lightning.pytorch.utilities.rank_zero:TPU available: False, using: 0 TPU cores\n",
            "INFO: HPU available: False, using: 0 HPUs\n",
            "INFO:lightning.pytorch.utilities.rank_zero:HPU available: False, using: 0 HPUs\n"
          ]
        }
      ]
    },
    {
      "cell_type": "code",
      "source": [
        "trainer.fit(mlp_classifier, labeled_datamodule_from_unsupervised)"
      ],
      "metadata": {
        "id": "6J3KyJcBXIFJ",
        "colab": {
          "base_uri": "https://localhost:8080/"
        },
        "outputId": "4c8893c9-0b58-4075-ed72-9e71d86e4a95"
      },
      "execution_count": 39,
      "outputs": [
        {
          "output_type": "stream",
          "name": "stderr",
          "text": [
            "INFO: LOCAL_RANK: 0 - CUDA_VISIBLE_DEVICES: [0]\n",
            "INFO:lightning.pytorch.accelerators.cuda:LOCAL_RANK: 0 - CUDA_VISIBLE_DEVICES: [0]\n"
          ]
        },
        {
          "output_type": "stream",
          "name": "stdout",
          "text": [
            "Val Loss: 1.9042 | Val Macro Acc: 0.6532\n",
            "Epoch 1 | Train Loss: 1.7589  Val Loss: 0.5341 | Val Macro Acc: 0.8254\n",
            "Epoch 10 | Train Loss: 0.3040  Val Loss: 0.4334 | Val Macro Acc: 0.8854\n",
            "Epoch 20 | Train Loss: 0.1056  Val Loss: 0.5201 | Val Macro Acc: 0.8090\n",
            "Epoch 30 | Train Loss: 0.0625  "
          ]
        }
      ]
    },
    {
      "cell_type": "markdown",
      "source": [
        "- Test vime self"
      ],
      "metadata": {
        "id": "l7C8Xw9kfedG"
      }
    },
    {
      "cell_type": "code",
      "source": [
        "pred = trainer.predict(mlp_classifier, labeled_datamodule_from_unsupervised, ckpt_path=\"best\")\n",
        "pred = np.concatenate(pred).argmax(1)"
      ],
      "metadata": {
        "id": "QxOL0k7rfXg4",
        "colab": {
          "base_uri": "https://localhost:8080/"
        },
        "outputId": "93d68086-ab58-4dcd-e443-d6151c606515"
      },
      "execution_count": 40,
      "outputs": [
        {
          "output_type": "stream",
          "name": "stderr",
          "text": [
            "INFO: Restoring states from the checkpoint path at /content/drive/MyDrive/Colab Notebooks/vime/mlp_weights/mlp_from_unsupervised-v9.ckpt\n",
            "INFO:lightning.pytorch.utilities.rank_zero:Restoring states from the checkpoint path at /content/drive/MyDrive/Colab Notebooks/vime/mlp_weights/mlp_from_unsupervised-v9.ckpt\n",
            "INFO: LOCAL_RANK: 0 - CUDA_VISIBLE_DEVICES: [0]\n",
            "INFO:lightning.pytorch.accelerators.cuda:LOCAL_RANK: 0 - CUDA_VISIBLE_DEVICES: [0]\n",
            "INFO: Loaded model weights from the checkpoint at /content/drive/MyDrive/Colab Notebooks/vime/mlp_weights/mlp_from_unsupervised-v9.ckpt\n",
            "INFO:lightning.pytorch.utilities.rank_zero:Loaded model weights from the checkpoint at /content/drive/MyDrive/Colab Notebooks/vime/mlp_weights/mlp_from_unsupervised-v9.ckpt\n"
          ]
        }
      ]
    },
    {
      "cell_type": "code",
      "source": [
        "accuracy_score(y_test, pred)"
      ],
      "metadata": {
        "id": "TawbZLb9XsEa",
        "colab": {
          "base_uri": "https://localhost:8080/"
        },
        "outputId": "7e17b4c3-e2b4-4fb1-83fe-235c674b950b"
      },
      "execution_count": 41,
      "outputs": [
        {
          "output_type": "execute_result",
          "data": {
            "text/plain": [
              "0.9114"
            ]
          },
          "metadata": {},
          "execution_count": 41
        }
      ]
    },
    {
      "cell_type": "markdown",
      "source": [
        "### VIME Semi"
      ],
      "metadata": {
        "id": "0GyrAB0WkAsz"
      }
    },
    {
      "cell_type": "markdown",
      "source": [
        "- Create datamodule and model"
      ],
      "metadata": {
        "id": "4XNHwOUDkFEr"
      }
    },
    {
      "cell_type": "code",
      "source": [
        "dim = X_labeled.shape[1]"
      ],
      "metadata": {
        "id": "sUzVLATbkGka"
      },
      "execution_count": 42,
      "outputs": []
    },
    {
      "cell_type": "code",
      "source": [
        "semi_datamodule = VIMESemiDataModule(\n",
        "    X_unlabeled,\n",
        "    X_labeled,\n",
        "    y,\n",
        "    X_test,\n",
        "    train_size=args_semi.train_size,\n",
        "    labeled_batch_size=args_semi.labeled_batch_size,\n",
        "    unlabeled_batch_size=args_semi.unlabeled_batch_size,\n",
        "    seed=args_semi.seed,\n",
        ")"
      ],
      "metadata": {
        "id": "O606x9hWkJS7"
      },
      "execution_count": 43,
      "outputs": []
    },
    {
      "cell_type": "code",
      "source": [
        "vime_semi = VIMESemi(\n",
        "    pretrained_encoder=pretrained_encoder,\n",
        "    hidden_dims=[256, 128, 64],\n",
        "    num_classes=args_semi.num_classes,\n",
        "    supervised_criterion=args_semi.supervised_criterion,\n",
        "    lr=args_semi.lr,\n",
        "    p_masking=args_semi.p_masking,\n",
        "    K=args_semi.K,\n",
        "    beta=args_semi.beta,\n",
        "    log_interval=args_semi.log_interval,\n",
        "    seed=args_semi.seed,\n",
        ")"
      ],
      "metadata": {
        "colab": {
          "base_uri": "https://localhost:8080/"
        },
        "id": "MJje5q80j7XT",
        "outputId": "84d1238d-c131-456e-cb01-0e3a97a2a2a8"
      },
      "execution_count": 44,
      "outputs": [
        {
          "output_type": "stream",
          "name": "stderr",
          "text": [
            "INFO: Seed set to 26\n",
            "INFO:lightning.fabric.utilities.seed:Seed set to 26\n"
          ]
        }
      ]
    },
    {
      "cell_type": "markdown",
      "source": [
        "- Train vime semi"
      ],
      "metadata": {
        "id": "pBZJVPIvuQ4-"
      }
    },
    {
      "cell_type": "code",
      "source": [
        "checkpoint = ModelCheckpoint(\n",
        "    dirpath=args_semi.weights_dirpath,\n",
        "    filename=\"vime_semi\",\n",
        "    monitor=\"val_loss\",\n",
        "    mode=\"min\",\n",
        "    save_weights_only=True,\n",
        ")\n",
        "early_stop = EarlyStopping(\n",
        "    monitor=\"val_loss\",\n",
        "    patience=20,\n",
        "    mode=\"min\",\n",
        ")"
      ],
      "metadata": {
        "id": "Wd6qnZBflzuz"
      },
      "execution_count": 45,
      "outputs": []
    },
    {
      "cell_type": "code",
      "source": [
        "trainer = pl.Trainer(\n",
        "    accelerator=\"gpu\",\n",
        "    devices=1,\n",
        "    logger=False,\n",
        "    callbacks=[checkpoint, early_stop],\n",
        "    max_epochs=args_semi.max_epochs,\n",
        "    num_sanity_val_steps=0,\n",
        "    enable_progress_bar=False,\n",
        "    enable_model_summary=False,\n",
        "    deterministic=True,\n",
        ")"
      ],
      "metadata": {
        "colab": {
          "base_uri": "https://localhost:8080/"
        },
        "id": "xR7JwkFnmTzi",
        "outputId": "b5257575-8ead-4817-e6f6-a1aa66541649"
      },
      "execution_count": 46,
      "outputs": [
        {
          "output_type": "stream",
          "name": "stderr",
          "text": [
            "INFO: GPU available: True (cuda), used: True\n",
            "INFO:lightning.pytorch.utilities.rank_zero:GPU available: True (cuda), used: True\n",
            "INFO: TPU available: False, using: 0 TPU cores\n",
            "INFO:lightning.pytorch.utilities.rank_zero:TPU available: False, using: 0 TPU cores\n",
            "INFO: HPU available: False, using: 0 HPUs\n",
            "INFO:lightning.pytorch.utilities.rank_zero:HPU available: False, using: 0 HPUs\n"
          ]
        }
      ]
    },
    {
      "cell_type": "code",
      "source": [
        "trainer.fit(vime_semi, semi_datamodule)"
      ],
      "metadata": {
        "colab": {
          "base_uri": "https://localhost:8080/"
        },
        "id": "HZTVOGenmV1S",
        "outputId": "2b3597de-36fe-47df-ee1f-c3b1a2a2f28e"
      },
      "execution_count": 47,
      "outputs": [
        {
          "output_type": "stream",
          "name": "stderr",
          "text": [
            "INFO: LOCAL_RANK: 0 - CUDA_VISIBLE_DEVICES: [0]\n",
            "INFO:lightning.pytorch.accelerators.cuda:LOCAL_RANK: 0 - CUDA_VISIBLE_DEVICES: [0]\n"
          ]
        },
        {
          "output_type": "stream",
          "name": "stdout",
          "text": [
            "Val Loss_s: 1.2112\n",
            "Epoch 1 | Train Loss: 1.4965 | Train Loss_s: 1.4658 | Train Loss_u: 0.0307  Val Loss_s: 0.5357\n",
            "Epoch 5 | Train Loss: 0.4626 | Train Loss_s: 0.3815 | Train Loss_u: 0.0811  Val Loss_s: 0.4713\n",
            "Epoch 10 | Train Loss: 0.3003 | Train Loss_s: 0.1893 | Train Loss_u: 0.1110  Val Loss_s: 0.4894\n",
            "Epoch 15 | Train Loss: 0.3164 | Train Loss_s: 0.2001 | Train Loss_u: 0.1163  Val Loss_s: 0.4844\n",
            "Epoch 20 | Train Loss: 0.3252 | Train Loss_s: 0.2040 | Train Loss_u: 0.1213  Val Loss_s: 0.4324\n",
            "Epoch 25 | Train Loss: 0.2737 | Train Loss_s: 0.1510 | Train Loss_u: 0.1228  Val Loss_s: 0.4307\n",
            "Epoch 30 | Train Loss: 0.2563 | Train Loss_s: 0.1239 | Train Loss_u: 0.1324  Val Loss_s: 0.4537\n",
            "Epoch 35 | Train Loss: 0.2373 | Train Loss_s: 0.1132 | Train Loss_u: 0.1241  Val Loss_s: 0.3816\n",
            "Epoch 40 | Train Loss: 0.3556 | Train Loss_s: 0.2321 | Train Loss_u: 0.1234  Val Loss_s: 0.4391\n",
            "Epoch 45 | Train Loss: 0.2350 | Train Loss_s: 0.1156 | Train Loss_u: 0.1194  Val Loss_s: 0.4732\n",
            "Epoch 50 | Train Loss: 0.2219 | Train Loss_s: 0.0987 | Train Loss_u: 0.1232  Val Loss_s: 0.4320\n",
            "Epoch 55 | Train Loss: 0.2272 | Train Loss_s: 0.1079 | Train Loss_u: 0.1194  Val Loss_s: 0.4174\n",
            "Epoch 60 | Train Loss: 0.2024 | Train Loss_s: 0.0880 | Train Loss_u: 0.1143  "
          ]
        }
      ]
    },
    {
      "cell_type": "markdown",
      "source": [
        "- Test vime semi"
      ],
      "metadata": {
        "id": "j-XUwx5MfZvO"
      }
    },
    {
      "cell_type": "code",
      "source": [
        "pred = trainer.predict(vime_semi, semi_datamodule, ckpt_path=\"best\")\n",
        "pred = np.concatenate(pred).argmax(1)"
      ],
      "metadata": {
        "colab": {
          "base_uri": "https://localhost:8080/"
        },
        "id": "VgxmkrDLruVA",
        "outputId": "4dcf8b3b-bdcb-4dfa-91d7-5c56addc287d"
      },
      "execution_count": 48,
      "outputs": [
        {
          "output_type": "stream",
          "name": "stderr",
          "text": [
            "INFO: Restoring states from the checkpoint path at /content/drive/MyDrive/Colab Notebooks/vime/vimesemi_weights/vime_semi-v6.ckpt\n",
            "INFO:lightning.pytorch.utilities.rank_zero:Restoring states from the checkpoint path at /content/drive/MyDrive/Colab Notebooks/vime/vimesemi_weights/vime_semi-v6.ckpt\n",
            "INFO: LOCAL_RANK: 0 - CUDA_VISIBLE_DEVICES: [0]\n",
            "INFO:lightning.pytorch.accelerators.cuda:LOCAL_RANK: 0 - CUDA_VISIBLE_DEVICES: [0]\n",
            "INFO: Loaded model weights from the checkpoint at /content/drive/MyDrive/Colab Notebooks/vime/vimesemi_weights/vime_semi-v6.ckpt\n",
            "INFO:lightning.pytorch.utilities.rank_zero:Loaded model weights from the checkpoint at /content/drive/MyDrive/Colab Notebooks/vime/vimesemi_weights/vime_semi-v6.ckpt\n"
          ]
        }
      ]
    },
    {
      "cell_type": "code",
      "source": [
        "accuracy_score(y_test, pred)"
      ],
      "metadata": {
        "colab": {
          "base_uri": "https://localhost:8080/"
        },
        "id": "uTcKCD-he2o6",
        "outputId": "70570c9d-192b-4e90-ff69-69ccd7602198"
      },
      "execution_count": 49,
      "outputs": [
        {
          "output_type": "execute_result",
          "data": {
            "text/plain": [
              "0.9185"
            ]
          },
          "metadata": {},
          "execution_count": 49
        }
      ]
    },
    {
      "cell_type": "code",
      "source": [],
      "metadata": {
        "id": "9k9did4sfssE"
      },
      "execution_count": 65,
      "outputs": []
    }
  ],
  "metadata": {
    "colab": {
      "provenance": [],
      "gpuType": "T4",
      "toc_visible": true,
      "include_colab_link": true
    },
    "kernelspec": {
      "display_name": "Python 3",
      "name": "python3"
    },
    "language_info": {
      "codemirror_mode": {
        "name": "ipython",
        "version": 3
      },
      "file_extension": ".py",
      "mimetype": "text/x-python",
      "name": "python",
      "nbconvert_exporter": "python",
      "pygments_lexer": "ipython3",
      "version": "3.8.11"
    },
    "accelerator": "GPU"
  },
  "nbformat": 4,
  "nbformat_minor": 0
}