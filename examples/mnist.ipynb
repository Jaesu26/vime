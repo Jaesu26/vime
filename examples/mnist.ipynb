{
  "cells": [
    {
      "cell_type": "markdown",
      "metadata": {
        "id": "view-in-github",
        "colab_type": "text"
      },
      "source": [
        "<a href=\"https://colab.research.google.com/github/Jaesu26/vime/blob/main/examples/mnist.ipynb\" target=\"_parent\"><img src=\"https://colab.research.google.com/assets/colab-badge.svg\" alt=\"Open In Colab\"/></a>"
      ]
    },
    {
      "cell_type": "markdown",
      "metadata": {
        "id": "75xRhMA-ZZ4g"
      },
      "source": [
        "# VIME Example"
      ]
    },
    {
      "cell_type": "markdown",
      "source": [
        "`-` An example to train VIME-Self and VIME-Semi using google colab gpu"
      ],
      "metadata": {
        "id": "6VoY9QtMugOt"
      }
    },
    {
      "cell_type": "markdown",
      "source": [
        "## Install VIME"
      ],
      "metadata": {
        "id": "URy6aEW-cIML"
      }
    },
    {
      "cell_type": "code",
      "execution_count": 1,
      "metadata": {
        "colab": {
          "base_uri": "https://localhost:8080/"
        },
        "id": "GjvmmVOVMW_P",
        "outputId": "7090642a-2996-4913-b3f4-ae67d29897c8"
      },
      "outputs": [
        {
          "output_type": "stream",
          "name": "stdout",
          "text": [
            "Mounted at /content/drive\n"
          ]
        }
      ],
      "source": [
        "from google.colab import drive\n",
        "\n",
        "drive.mount(\"/content/drive\")"
      ]
    },
    {
      "cell_type": "code",
      "source": [
        "%cd /content/drive/MyDrive/Colab Notebooks/vime"
      ],
      "metadata": {
        "colab": {
          "base_uri": "https://localhost:8080/"
        },
        "id": "vcJwBS1jt4J2",
        "outputId": "2d17e8f1-276c-4059-de90-3f59cb1c4cbd"
      },
      "execution_count": 2,
      "outputs": [
        {
          "output_type": "stream",
          "name": "stdout",
          "text": [
            "/content/drive/MyDrive/Colab Notebooks/vime\n"
          ]
        }
      ]
    },
    {
      "cell_type": "code",
      "source": [
        "!pip install git+https://github.com/Jaesu26/vime.git"
      ],
      "metadata": {
        "colab": {
          "base_uri": "https://localhost:8080/"
        },
        "id": "_ncytT-2biR8",
        "outputId": "e7df39c1-fb85-4549-fa87-8ed90d48d9e1"
      },
      "execution_count": 3,
      "outputs": [
        {
          "output_type": "stream",
          "name": "stdout",
          "text": [
            "Looking in indexes: https://pypi.org/simple, https://us-python.pkg.dev/colab-wheels/public/simple/\n",
            "Collecting git+https://github.com/Jaesu26/vime.git\n",
            "  Cloning https://github.com/Jaesu26/vime.git to /tmp/pip-req-build-1c37wlhw\n",
            "  Running command git clone --filter=blob:none --quiet https://github.com/Jaesu26/vime.git /tmp/pip-req-build-1c37wlhw\n",
            "  Resolved https://github.com/Jaesu26/vime.git to commit edf3757cf2857973f28332553d85e3797c3ba880\n",
            "  Installing build dependencies ... \u001b[?25l\u001b[?25hdone\n",
            "  Getting requirements to build wheel ... \u001b[?25l\u001b[?25hdone\n",
            "  Preparing metadata (pyproject.toml) ... \u001b[?25l\u001b[?25hdone\n",
            "Collecting torchmetrics>=0.11.3\n",
            "  Downloading torchmetrics-0.11.4-py3-none-any.whl (519 kB)\n",
            "\u001b[2K     \u001b[90m━━━━━━━━━━━━━━━━━━━━━━━━━━━━━━━━━━━━━━\u001b[0m \u001b[32m519.2/519.2 kB\u001b[0m \u001b[31m39.0 MB/s\u001b[0m eta \u001b[36m0:00:00\u001b[0m\n",
            "\u001b[?25hCollecting lightning>=2.0.0\n",
            "  Downloading lightning-2.0.2-py3-none-any.whl (1.8 MB)\n",
            "\u001b[2K     \u001b[90m━━━━━━━━━━━━━━━━━━━━━━━━━━━━━━━━━━━━━━━━\u001b[0m \u001b[32m1.8/1.8 MB\u001b[0m \u001b[31m87.1 MB/s\u001b[0m eta \u001b[36m0:00:00\u001b[0m\n",
            "\u001b[?25hRequirement already satisfied: scikit-learn>=1.1.0 in /usr/local/lib/python3.10/dist-packages (from vime==0.0.1) (1.2.2)\n",
            "Requirement already satisfied: numpy>=1.18.2 in /usr/local/lib/python3.10/dist-packages (from vime==0.0.1) (1.22.4)\n",
            "Requirement already satisfied: torch>=2.0.0 in /usr/local/lib/python3.10/dist-packages (from vime==0.0.1) (2.0.0+cu118)\n",
            "Requirement already satisfied: click<10.0 in /usr/local/lib/python3.10/dist-packages (from lightning>=2.0.0->vime==0.0.1) (8.1.3)\n",
            "Requirement already satisfied: packaging in /usr/local/lib/python3.10/dist-packages (from lightning>=2.0.0->vime==0.0.1) (23.1)\n",
            "Requirement already satisfied: fsspec<2024.0,>=2022.5.0 in /usr/local/lib/python3.10/dist-packages (from lightning>=2.0.0->vime==0.0.1) (2023.4.0)\n",
            "Requirement already satisfied: psutil<7.0 in /usr/local/lib/python3.10/dist-packages (from lightning>=2.0.0->vime==0.0.1) (5.9.5)\n",
            "Requirement already satisfied: typing-extensions<6.0,>=4.0.0 in /usr/local/lib/python3.10/dist-packages (from lightning>=2.0.0->vime==0.0.1) (4.5.0)\n",
            "Collecting starlette\n",
            "  Downloading starlette-0.26.1-py3-none-any.whl (66 kB)\n",
            "\u001b[2K     \u001b[90m━━━━━━━━━━━━━━━━━━━━━━━━━━━━━━━━━━━━━━━━\u001b[0m \u001b[32m66.9/66.9 kB\u001b[0m \u001b[31m10.3 MB/s\u001b[0m eta \u001b[36m0:00:00\u001b[0m\n",
            "\u001b[?25hCollecting fastapi<0.89.0,>=0.69.0\n",
            "  Downloading fastapi-0.88.0-py3-none-any.whl (55 kB)\n",
            "\u001b[2K     \u001b[90m━━━━━━━━━━━━━━━━━━━━━━━━━━━━━━━━━━━━━━━━\u001b[0m \u001b[32m55.5/55.5 kB\u001b[0m \u001b[31m8.4 MB/s\u001b[0m eta \u001b[36m0:00:00\u001b[0m\n",
            "\u001b[?25hCollecting starsessions<2.0,>=1.2.1\n",
            "  Downloading starsessions-1.3.0-py3-none-any.whl (10 kB)\n",
            "Collecting websockets<12.0\n",
            "  Downloading websockets-11.0.2-cp310-cp310-manylinux_2_5_x86_64.manylinux1_x86_64.manylinux_2_17_x86_64.manylinux2014_x86_64.whl (129 kB)\n",
            "\u001b[2K     \u001b[90m━━━━━━━━━━━━━━━━━━━━━━━━━━━━━━━━━━━━━━\u001b[0m \u001b[32m129.9/129.9 kB\u001b[0m \u001b[31m21.0 MB/s\u001b[0m eta \u001b[36m0:00:00\u001b[0m\n",
            "\u001b[?25hCollecting deepdiff<8.0,>=5.7.0\n",
            "  Downloading deepdiff-6.3.0-py3-none-any.whl (69 kB)\n",
            "\u001b[2K     \u001b[90m━━━━━━━━━━━━━━━━━━━━━━━━━━━━━━━━━━━━━━━━\u001b[0m \u001b[32m69.7/69.7 kB\u001b[0m \u001b[31m11.8 MB/s\u001b[0m eta \u001b[36m0:00:00\u001b[0m\n",
            "\u001b[?25hRequirement already satisfied: Jinja2<5.0 in /usr/local/lib/python3.10/dist-packages (from lightning>=2.0.0->vime==0.0.1) (3.1.2)\n",
            "Requirement already satisfied: urllib3<3.0 in /usr/local/lib/python3.10/dist-packages (from lightning>=2.0.0->vime==0.0.1) (1.26.15)\n",
            "Collecting uvicorn<2.0\n",
            "  Downloading uvicorn-0.22.0-py3-none-any.whl (58 kB)\n",
            "\u001b[2K     \u001b[90m━━━━━━━━━━━━━━━━━━━━━━━━━━━━━━━━━━━━━━━━\u001b[0m \u001b[32m58.3/58.3 kB\u001b[0m \u001b[31m9.0 MB/s\u001b[0m eta \u001b[36m0:00:00\u001b[0m\n",
            "\u001b[?25hRequirement already satisfied: websocket-client<3.0 in /usr/local/lib/python3.10/dist-packages (from lightning>=2.0.0->vime==0.0.1) (1.5.1)\n",
            "Requirement already satisfied: rich<15.0,>=12.3.0 in /usr/local/lib/python3.10/dist-packages (from lightning>=2.0.0->vime==0.0.1) (13.3.4)\n",
            "Collecting inquirer<5.0,>=2.10.0\n",
            "  Downloading inquirer-3.1.3-py3-none-any.whl (18 kB)\n",
            "Requirement already satisfied: beautifulsoup4<6.0,>=4.8.0 in /usr/local/lib/python3.10/dist-packages (from lightning>=2.0.0->vime==0.0.1) (4.11.2)\n",
            "Requirement already satisfied: requests<4.0 in /usr/local/lib/python3.10/dist-packages (from lightning>=2.0.0->vime==0.0.1) (2.27.1)\n",
            "Collecting arrow<3.0,>=1.2.0\n",
            "  Downloading arrow-1.2.3-py3-none-any.whl (66 kB)\n",
            "\u001b[2K     \u001b[90m━━━━━━━━━━━━━━━━━━━━━━━━━━━━━━━━━━━━━━━━\u001b[0m \u001b[32m66.4/66.4 kB\u001b[0m \u001b[31m11.3 MB/s\u001b[0m eta \u001b[36m0:00:00\u001b[0m\n",
            "\u001b[?25hRequirement already satisfied: tqdm<6.0,>=4.57.0 in /usr/local/lib/python3.10/dist-packages (from lightning>=2.0.0->vime==0.0.1) (4.65.0)\n",
            "Collecting croniter<1.4.0,>=1.3.0\n",
            "  Downloading croniter-1.3.14-py2.py3-none-any.whl (18 kB)\n",
            "Requirement already satisfied: PyYAML<8.0 in /usr/local/lib/python3.10/dist-packages (from lightning>=2.0.0->vime==0.0.1) (6.0)\n",
            "Requirement already satisfied: traitlets<7.0,>=5.3.0 in /usr/local/lib/python3.10/dist-packages (from lightning>=2.0.0->vime==0.0.1) (5.7.1)\n",
            "Requirement already satisfied: pydantic<4.0,>=1.7.4 in /usr/local/lib/python3.10/dist-packages (from lightning>=2.0.0->vime==0.0.1) (1.10.7)\n",
            "Collecting lightning-utilities<2.0,>=0.7.0\n",
            "  Downloading lightning_utilities-0.8.0-py3-none-any.whl (20 kB)\n",
            "Collecting dateutils<2.0\n",
            "  Downloading dateutils-0.6.12-py2.py3-none-any.whl (5.7 kB)\n",
            "Collecting lightning-cloud>=0.5.34\n",
            "  Downloading lightning_cloud-0.5.34-py3-none-any.whl (557 kB)\n",
            "\u001b[2K     \u001b[90m━━━━━━━━━━━━━━━━━━━━━━━━━━━━━━━━━━━━━━\u001b[0m \u001b[32m557.1/557.1 kB\u001b[0m \u001b[31m60.7 MB/s\u001b[0m eta \u001b[36m0:00:00\u001b[0m\n",
            "\u001b[?25hCollecting pytorch-lightning\n",
            "  Downloading pytorch_lightning-2.0.2-py3-none-any.whl (719 kB)\n",
            "\u001b[2K     \u001b[90m━━━━━━━━━━━━━━━━━━━━━━━━━━━━━━━━━━━━━━\u001b[0m \u001b[32m719.0/719.0 kB\u001b[0m \u001b[31m66.2 MB/s\u001b[0m eta \u001b[36m0:00:00\u001b[0m\n",
            "\u001b[?25hRequirement already satisfied: scipy>=1.3.2 in /usr/local/lib/python3.10/dist-packages (from scikit-learn>=1.1.0->vime==0.0.1) (1.10.1)\n",
            "Requirement already satisfied: threadpoolctl>=2.0.0 in /usr/local/lib/python3.10/dist-packages (from scikit-learn>=1.1.0->vime==0.0.1) (3.1.0)\n",
            "Requirement already satisfied: joblib>=1.1.1 in /usr/local/lib/python3.10/dist-packages (from scikit-learn>=1.1.0->vime==0.0.1) (1.2.0)\n",
            "Requirement already satisfied: networkx in /usr/local/lib/python3.10/dist-packages (from torch>=2.0.0->vime==0.0.1) (3.1)\n",
            "Requirement already satisfied: sympy in /usr/local/lib/python3.10/dist-packages (from torch>=2.0.0->vime==0.0.1) (1.11.1)\n",
            "Requirement already satisfied: filelock in /usr/local/lib/python3.10/dist-packages (from torch>=2.0.0->vime==0.0.1) (3.12.0)\n",
            "Requirement already satisfied: triton==2.0.0 in /usr/local/lib/python3.10/dist-packages (from torch>=2.0.0->vime==0.0.1) (2.0.0)\n",
            "Requirement already satisfied: cmake in /usr/local/lib/python3.10/dist-packages (from triton==2.0.0->torch>=2.0.0->vime==0.0.1) (3.25.2)\n",
            "Requirement already satisfied: lit in /usr/local/lib/python3.10/dist-packages (from triton==2.0.0->torch>=2.0.0->vime==0.0.1) (16.0.2)\n",
            "Requirement already satisfied: python-dateutil>=2.7.0 in /usr/local/lib/python3.10/dist-packages (from arrow<3.0,>=1.2.0->lightning>=2.0.0->vime==0.0.1) (2.8.2)\n",
            "Requirement already satisfied: soupsieve>1.2 in /usr/local/lib/python3.10/dist-packages (from beautifulsoup4<6.0,>=4.8.0->lightning>=2.0.0->vime==0.0.1) (2.4.1)\n",
            "Requirement already satisfied: pytz in /usr/local/lib/python3.10/dist-packages (from dateutils<2.0->lightning>=2.0.0->vime==0.0.1) (2022.7.1)\n",
            "Collecting ordered-set<4.2.0,>=4.0.2\n",
            "  Downloading ordered_set-4.1.0-py3-none-any.whl (7.6 kB)\n",
            "Collecting starlette\n",
            "  Downloading starlette-0.22.0-py3-none-any.whl (64 kB)\n",
            "\u001b[2K     \u001b[90m━━━━━━━━━━━━━━━━━━━━━━━━━━━━━━━━━━━━━━━━\u001b[0m \u001b[32m64.3/64.3 kB\u001b[0m \u001b[31m10.7 MB/s\u001b[0m eta \u001b[36m0:00:00\u001b[0m\n",
            "\u001b[?25hRequirement already satisfied: anyio<5,>=3.4.0 in /usr/local/lib/python3.10/dist-packages (from starlette->lightning>=2.0.0->vime==0.0.1) (3.6.2)\n",
            "Collecting aiohttp!=4.0.0a0,!=4.0.0a1\n",
            "  Downloading aiohttp-3.8.4-cp310-cp310-manylinux_2_17_x86_64.manylinux2014_x86_64.whl (1.0 MB)\n",
            "\u001b[2K     \u001b[90m━━━━━━━━━━━━━━━━━━━━━━━━━━━━━━━━━━━━━━━━\u001b[0m \u001b[32m1.0/1.0 MB\u001b[0m \u001b[31m77.6 MB/s\u001b[0m eta \u001b[36m0:00:00\u001b[0m\n",
            "\u001b[?25hCollecting readchar>=3.0.6\n",
            "  Downloading readchar-4.0.5-py3-none-any.whl (8.5 kB)\n",
            "Collecting blessed>=1.19.0\n",
            "  Downloading blessed-1.20.0-py2.py3-none-any.whl (58 kB)\n",
            "\u001b[2K     \u001b[90m━━━━━━━━━━━━━━━━━━━━━━━━━━━━━━━━━━━━━━━━\u001b[0m \u001b[32m58.4/58.4 kB\u001b[0m \u001b[31m10.0 MB/s\u001b[0m eta \u001b[36m0:00:00\u001b[0m\n",
            "\u001b[?25hCollecting python-editor>=1.0.4\n",
            "  Downloading python_editor-1.0.4-py3-none-any.whl (4.9 kB)\n",
            "Requirement already satisfied: MarkupSafe>=2.0 in /usr/local/lib/python3.10/dist-packages (from Jinja2<5.0->lightning>=2.0.0->vime==0.0.1) (2.1.2)\n",
            "Collecting pyjwt\n",
            "  Downloading PyJWT-2.6.0-py3-none-any.whl (20 kB)\n",
            "Requirement already satisfied: six in /usr/local/lib/python3.10/dist-packages (from lightning-cloud>=0.5.34->lightning>=2.0.0->vime==0.0.1) (1.16.0)\n",
            "Collecting python-multipart\n",
            "  Downloading python_multipart-0.0.6-py3-none-any.whl (45 kB)\n",
            "\u001b[2K     \u001b[90m━━━━━━━━━━━━━━━━━━━━━━━━━━━━━━━━━━━━━━━━\u001b[0m \u001b[32m45.7/45.7 kB\u001b[0m \u001b[31m7.9 MB/s\u001b[0m eta \u001b[36m0:00:00\u001b[0m\n",
            "\u001b[?25hRequirement already satisfied: certifi>=2017.4.17 in /usr/local/lib/python3.10/dist-packages (from requests<4.0->lightning>=2.0.0->vime==0.0.1) (2022.12.7)\n",
            "Requirement already satisfied: idna<4,>=2.5 in /usr/local/lib/python3.10/dist-packages (from requests<4.0->lightning>=2.0.0->vime==0.0.1) (3.4)\n",
            "Requirement already satisfied: charset-normalizer~=2.0.0 in /usr/local/lib/python3.10/dist-packages (from requests<4.0->lightning>=2.0.0->vime==0.0.1) (2.0.12)\n",
            "Requirement already satisfied: markdown-it-py<3.0.0,>=2.2.0 in /usr/local/lib/python3.10/dist-packages (from rich<15.0,>=12.3.0->lightning>=2.0.0->vime==0.0.1) (2.2.0)\n",
            "Requirement already satisfied: pygments<3.0.0,>=2.13.0 in /usr/local/lib/python3.10/dist-packages (from rich<15.0,>=12.3.0->lightning>=2.0.0->vime==0.0.1) (2.14.0)\n",
            "Requirement already satisfied: itsdangerous<3.0.0,>=2.0.1 in /usr/local/lib/python3.10/dist-packages (from starsessions<2.0,>=1.2.1->lightning>=2.0.0->vime==0.0.1) (2.1.2)\n",
            "Collecting h11>=0.8\n",
            "  Downloading h11-0.14.0-py3-none-any.whl (58 kB)\n",
            "\u001b[2K     \u001b[90m━━━━━━━━━━━━━━━━━━━━━━━━━━━━━━━━━━━━━━━━\u001b[0m \u001b[32m58.3/58.3 kB\u001b[0m \u001b[31m9.7 MB/s\u001b[0m eta \u001b[36m0:00:00\u001b[0m\n",
            "\u001b[?25hRequirement already satisfied: mpmath>=0.19 in /usr/local/lib/python3.10/dist-packages (from sympy->torch>=2.0.0->vime==0.0.1) (1.3.0)\n",
            "Requirement already satisfied: attrs>=17.3.0 in /usr/local/lib/python3.10/dist-packages (from aiohttp!=4.0.0a0,!=4.0.0a1->fsspec<2024.0,>=2022.5.0->lightning>=2.0.0->vime==0.0.1) (23.1.0)\n",
            "Collecting async-timeout<5.0,>=4.0.0a3\n",
            "  Downloading async_timeout-4.0.2-py3-none-any.whl (5.8 kB)\n",
            "Collecting aiosignal>=1.1.2\n",
            "  Downloading aiosignal-1.3.1-py3-none-any.whl (7.6 kB)\n",
            "Collecting yarl<2.0,>=1.0\n",
            "  Downloading yarl-1.9.2-cp310-cp310-manylinux_2_17_x86_64.manylinux2014_x86_64.whl (268 kB)\n",
            "\u001b[2K     \u001b[90m━━━━━━━━━━━━━━━━━━━━━━━━━━━━━━━━━━━━━━\u001b[0m \u001b[32m268.8/268.8 kB\u001b[0m \u001b[31m32.3 MB/s\u001b[0m eta \u001b[36m0:00:00\u001b[0m\n",
            "\u001b[?25hCollecting multidict<7.0,>=4.5\n",
            "  Downloading multidict-6.0.4-cp310-cp310-manylinux_2_17_x86_64.manylinux2014_x86_64.whl (114 kB)\n",
            "\u001b[2K     \u001b[90m━━━━━━━━━━━━━━━━━━━━━━━━━━━━━━━━━━━━━━\u001b[0m \u001b[32m114.5/114.5 kB\u001b[0m \u001b[31m17.8 MB/s\u001b[0m eta \u001b[36m0:00:00\u001b[0m\n",
            "\u001b[?25hCollecting frozenlist>=1.1.1\n",
            "  Downloading frozenlist-1.3.3-cp310-cp310-manylinux_2_5_x86_64.manylinux1_x86_64.manylinux_2_17_x86_64.manylinux2014_x86_64.whl (149 kB)\n",
            "\u001b[2K     \u001b[90m━━━━━━━━━━━━━━━━━━━━━━━━━━━━━━━━━━━━━━\u001b[0m \u001b[32m149.6/149.6 kB\u001b[0m \u001b[31m21.4 MB/s\u001b[0m eta \u001b[36m0:00:00\u001b[0m\n",
            "\u001b[?25hRequirement already satisfied: sniffio>=1.1 in /usr/local/lib/python3.10/dist-packages (from anyio<5,>=3.4.0->starlette->lightning>=2.0.0->vime==0.0.1) (1.3.0)\n",
            "Requirement already satisfied: wcwidth>=0.1.4 in /usr/local/lib/python3.10/dist-packages (from blessed>=1.19.0->inquirer<5.0,>=2.10.0->lightning>=2.0.0->vime==0.0.1) (0.2.6)\n",
            "Requirement already satisfied: mdurl~=0.1 in /usr/local/lib/python3.10/dist-packages (from markdown-it-py<3.0.0,>=2.2.0->rich<15.0,>=12.3.0->lightning>=2.0.0->vime==0.0.1) (0.1.2)\n",
            "Requirement already satisfied: setuptools>=41.0 in /usr/local/lib/python3.10/dist-packages (from readchar>=3.0.6->inquirer<5.0,>=2.10.0->lightning>=2.0.0->vime==0.0.1) (67.7.2)\n",
            "Building wheels for collected packages: vime\n",
            "  Building wheel for vime (pyproject.toml) ... \u001b[?25l\u001b[?25hdone\n",
            "  Created wheel for vime: filename=vime-0.0.1-py3-none-any.whl size=8226 sha256=b7d98b788a99ff17ef79b76aec1a7a2049fb09c8550f1e5c0ed8b08589782acb\n",
            "  Stored in directory: /tmp/pip-ephem-wheel-cache-j4yz1bex/wheels/ef/18/af/536655f577a9f4cd8194e69814e6f665db853d66f822393254\n",
            "Successfully built vime\n",
            "Installing collected packages: python-editor, websockets, readchar, python-multipart, pyjwt, ordered-set, multidict, lightning-utilities, h11, frozenlist, blessed, async-timeout, yarl, uvicorn, starlette, inquirer, deepdiff, dateutils, croniter, arrow, aiosignal, starsessions, fastapi, aiohttp, lightning-cloud, torchmetrics, pytorch-lightning, lightning, vime\n",
            "Successfully installed aiohttp-3.8.4 aiosignal-1.3.1 arrow-1.2.3 async-timeout-4.0.2 blessed-1.20.0 croniter-1.3.14 dateutils-0.6.12 deepdiff-6.3.0 fastapi-0.88.0 frozenlist-1.3.3 h11-0.14.0 inquirer-3.1.3 lightning-2.0.2 lightning-cloud-0.5.34 lightning-utilities-0.8.0 multidict-6.0.4 ordered-set-4.1.0 pyjwt-2.6.0 python-editor-1.0.4 python-multipart-0.0.6 pytorch-lightning-2.0.2 readchar-4.0.5 starlette-0.22.0 starsessions-1.3.0 torchmetrics-0.11.4 uvicorn-0.22.0 vime-0.0.1 websockets-11.0.2 yarl-1.9.2\n"
          ]
        }
      ]
    },
    {
      "cell_type": "markdown",
      "metadata": {
        "id": "68xM6jF0ZchA"
      },
      "source": [
        "## Prepare MNIST"
      ]
    },
    {
      "cell_type": "code",
      "source": [
        "!pip install easydict"
      ],
      "metadata": {
        "colab": {
          "base_uri": "https://localhost:8080/"
        },
        "id": "oMTTJ6Nscw_a",
        "outputId": "dbcaee0f-8e92-4210-8b38-01a2aeaf144d"
      },
      "execution_count": 4,
      "outputs": [
        {
          "output_type": "stream",
          "name": "stdout",
          "text": [
            "Looking in indexes: https://pypi.org/simple, https://us-python.pkg.dev/colab-wheels/public/simple/\n",
            "Requirement already satisfied: easydict in /usr/local/lib/python3.10/dist-packages (1.10)\n"
          ]
        }
      ]
    },
    {
      "cell_type": "code",
      "source": [
        "import logging\n",
        "import os\n",
        "import random\n",
        "import warnings\n",
        "\n",
        "import easydict\n",
        "import numpy as np\n",
        "import torch\n",
        "import torch.nn as nn\n",
        "\n",
        "warnings.filterwarnings(\"ignore\") "
      ],
      "metadata": {
        "id": "3d2SUG3UcRka"
      },
      "execution_count": 5,
      "outputs": []
    },
    {
      "cell_type": "markdown",
      "metadata": {
        "id": "NN7RHXuYr88l"
      },
      "source": [
        "- Hyperparameters"
      ]
    },
    {
      "cell_type": "code",
      "execution_count": 6,
      "metadata": {
        "id": "ZBe2gEgzr-q1"
      },
      "outputs": [],
      "source": [
        "args_self = easydict.EasyDict({\n",
        "    \"weights_dirpath\": \"./vimeself_weights\",\n",
        "    \"max_epochs\": 50,\n",
        "    \"batch_size\": 512,\n",
        "    \"train_size\": 0.9,\n",
        "    \"learning_rate\": 1e-2, \n",
        "    \"p_masking\": 0.3,\n",
        "    \"alpha\": 2.0,\n",
        "    \"log_interval\": 5,\n",
        "    \"seed\": 26,\n",
        "})\n",
        "args_semi = easydict.EasyDict({\n",
        "    \"weights_dirpath\": \"./vimesemi_weights\",\n",
        "    \"num_classes\": 10,\n",
        "    \"supervised_criterion\": nn.CrossEntropyLoss(),\n",
        "    \"max_epochs\": 100,\n",
        "    \"labeled_batch_size\": 64,\n",
        "    \"unlabeled_batch_size\": 512,\n",
        "    \"train_size\": 0.9,\n",
        "    \"learning_rate\": 1e-3, \n",
        "    \"p_masking\": 0.3,\n",
        "    \"K\": 3,\n",
        "    \"beta\": 1.0,\n",
        "    \"log_interval\": 5,\n",
        "    \"seed\": 26,\n",
        "})"
      ]
    },
    {
      "cell_type": "code",
      "source": [
        "def create_folder(path: str) -> None:\n",
        "    try:\n",
        "        if not os.path.exists(path):\n",
        "            os.makedirs(path)\n",
        "    except OSError as error:\n",
        "        print(error)"
      ],
      "metadata": {
        "id": "sAAMbpDRqGj9"
      },
      "execution_count": 7,
      "outputs": []
    },
    {
      "cell_type": "code",
      "source": [
        "create_folder(args_self.weights_dirpath)\n",
        "create_folder(args_semi.weights_dirpath)"
      ],
      "metadata": {
        "id": "7q8cqk7NqH_1"
      },
      "execution_count": 8,
      "outputs": []
    },
    {
      "cell_type": "markdown",
      "metadata": {
        "id": "MRrJ4A5RKC4B"
      },
      "source": [
        "- Load data"
      ]
    },
    {
      "cell_type": "code",
      "source": [
        "import sklearn\n",
        "from sklearn.datasets import fetch_openml\n",
        "from sklearn.model_selection import train_test_split"
      ],
      "metadata": {
        "id": "yz7eminncyb4"
      },
      "execution_count": 9,
      "outputs": []
    },
    {
      "cell_type": "code",
      "source": [
        "mnist = fetch_openml(\"mnist_784\")"
      ],
      "metadata": {
        "id": "N7JdJZofCXED"
      },
      "execution_count": 10,
      "outputs": []
    },
    {
      "cell_type": "code",
      "source": [
        "data = mnist.data.values\n",
        "target = mnist.target.astype(int).values"
      ],
      "metadata": {
        "id": "CUujD6TFjqVs"
      },
      "execution_count": 11,
      "outputs": []
    },
    {
      "cell_type": "code",
      "source": [
        "data /= 255.0"
      ],
      "metadata": {
        "id": "nu1JV7JhZJhg"
      },
      "execution_count": 12,
      "outputs": []
    },
    {
      "cell_type": "code",
      "source": [
        "data.shape"
      ],
      "metadata": {
        "colab": {
          "base_uri": "https://localhost:8080/"
        },
        "id": "U_ZB4UZ0gg7m",
        "outputId": "b0eba7c0-5b6e-40ee-f0b5-8c48aa883756"
      },
      "execution_count": 13,
      "outputs": [
        {
          "output_type": "execute_result",
          "data": {
            "text/plain": [
              "(70000, 784)"
            ]
          },
          "metadata": {},
          "execution_count": 13
        }
      ]
    },
    {
      "cell_type": "markdown",
      "source": [
        "- Split data"
      ],
      "metadata": {
        "id": "VyAxwzdFiJpv"
      }
    },
    {
      "cell_type": "code",
      "source": [
        "num_labeled_data_used = 1000\n",
        "unlabeled_data_rate = 0.9\n",
        "seed = 26\n",
        "test_size = 1 / 7"
      ],
      "metadata": {
        "id": "mvJecY3xh56g"
      },
      "execution_count": 14,
      "outputs": []
    },
    {
      "cell_type": "code",
      "source": [
        "X, X_test, y, y_test = train_test_split(data, target, test_size=test_size, random_state=seed, stratify=target)"
      ],
      "metadata": {
        "id": "2WHvI1h1rW3p"
      },
      "execution_count": 15,
      "outputs": []
    },
    {
      "cell_type": "code",
      "source": [
        "X_labeled, X_unlabeled, y, _ = train_test_split(X, y, test_size=unlabeled_data_rate, random_state=seed, stratify=y)"
      ],
      "metadata": {
        "id": "T3ADeqVXrpV5"
      },
      "execution_count": 16,
      "outputs": []
    },
    {
      "cell_type": "code",
      "source": [
        "X_labeled = X_labeled[:num_labeled_data_used]\n",
        "y = y[:num_labeled_data_used]"
      ],
      "metadata": {
        "id": "AQIirdQvsh0I"
      },
      "execution_count": 17,
      "outputs": []
    },
    {
      "cell_type": "markdown",
      "source": [
        "## VIME"
      ],
      "metadata": {
        "id": "Sk00Z9pJiTUB"
      }
    },
    {
      "cell_type": "code",
      "source": [
        "import lightning.pytorch as pl\n",
        "from lightning.pytorch.callbacks import ModelCheckpoint, EarlyStopping\n",
        "from sklearn.metrics import accuracy_score\n",
        "from vime.datamodules import VIMESelfDataModule, VIMESemiDataModule\n",
        "from vime.lightningmodules import VIMESelf, VIMESemi"
      ],
      "metadata": {
        "id": "mt9e_MtDS5nV"
      },
      "execution_count": 18,
      "outputs": []
    },
    {
      "cell_type": "markdown",
      "source": [
        "### VIME Self"
      ],
      "metadata": {
        "id": "9fPv2ys9lGrX"
      }
    },
    {
      "cell_type": "markdown",
      "source": [
        "- Create datamodule and model"
      ],
      "metadata": {
        "id": "wCKRinaBmf31"
      }
    },
    {
      "cell_type": "code",
      "source": [
        "dim = X_unlabeled.shape[1]"
      ],
      "metadata": {
        "id": "XUAY2nfcIgfq"
      },
      "execution_count": 19,
      "outputs": []
    },
    {
      "cell_type": "code",
      "source": [
        "self_datamodule = VIMESelfDataModule(X_unlabeled, train_size=args_self.train_size, batch_size=args_self.batch_size, seed=args_self.seed)"
      ],
      "metadata": {
        "id": "R9QxnpdZJK_K"
      },
      "execution_count": 20,
      "outputs": []
    },
    {
      "cell_type": "code",
      "source": [
        "vime_self = VIMESelf(\n",
        "    in_features_list=[dim],\n",
        "    out_features_list=[dim],\n",
        "    learning_rate=args_self.learning_rate,\n",
        "    p_masking=args_self.p_masking,\n",
        "    alpha=args_self.alpha,\n",
        "    log_interval=args_self.log_interval,\n",
        "    seed=args_self.seed,\n",
        ")"
      ],
      "metadata": {
        "colab": {
          "base_uri": "https://localhost:8080/"
        },
        "id": "G8OQbsLjl-LW",
        "outputId": "38d802f4-af15-4416-98e7-28eb2866f0ec"
      },
      "execution_count": 21,
      "outputs": [
        {
          "output_type": "stream",
          "name": "stderr",
          "text": [
            "INFO: Global seed set to 26\n",
            "INFO:lightning.fabric.utilities.seed:Global seed set to 26\n"
          ]
        }
      ]
    },
    {
      "cell_type": "markdown",
      "source": [
        "- Train vime self"
      ],
      "metadata": {
        "id": "YboyGahYLbtK"
      }
    },
    {
      "cell_type": "code",
      "source": [
        "checkpoint = ModelCheckpoint(\n",
        "    dirpath=args_self.weights_dirpath,\n",
        "    filename=\"vime_self\",\n",
        "    monitor=\"val_loss\",\n",
        "    mode=\"min\",\n",
        "    save_weights_only=True,\n",
        ")\n",
        "\n",
        "early_stop = EarlyStopping(\n",
        "    monitor=\"val_loss\",\n",
        "    patience=10,\n",
        "    mode=\"min\",\n",
        ")"
      ],
      "metadata": {
        "id": "-QQ0TjD6pgRE"
      },
      "execution_count": 22,
      "outputs": []
    },
    {
      "cell_type": "code",
      "source": [
        "trainer = pl.Trainer(\n",
        "    accelerator=\"gpu\",\n",
        "    devices=1,\n",
        "    logger=False,\n",
        "    callbacks=[checkpoint, early_stop],\n",
        "    max_epochs=args_self.max_epochs,\n",
        "    num_sanity_val_steps=0,\n",
        "    enable_progress_bar=False, \n",
        "    enable_model_summary=False,\n",
        "    deterministic=True,\n",
        ")"
      ],
      "metadata": {
        "colab": {
          "base_uri": "https://localhost:8080/"
        },
        "id": "nvMFCio-Lecj",
        "outputId": "77c2aac1-7502-49e1-fa36-6d65d95a8b19"
      },
      "execution_count": 23,
      "outputs": [
        {
          "output_type": "stream",
          "name": "stderr",
          "text": [
            "INFO: GPU available: True (cuda), used: True\n",
            "INFO:lightning.pytorch.utilities.rank_zero:GPU available: True (cuda), used: True\n",
            "INFO: TPU available: False, using: 0 TPU cores\n",
            "INFO:lightning.pytorch.utilities.rank_zero:TPU available: False, using: 0 TPU cores\n",
            "INFO: IPU available: False, using: 0 IPUs\n",
            "INFO:lightning.pytorch.utilities.rank_zero:IPU available: False, using: 0 IPUs\n",
            "INFO: HPU available: False, using: 0 HPUs\n",
            "INFO:lightning.pytorch.utilities.rank_zero:HPU available: False, using: 0 HPUs\n"
          ]
        }
      ]
    },
    {
      "cell_type": "code",
      "source": [
        "trainer.fit(vime_self, self_datamodule)"
      ],
      "metadata": {
        "colab": {
          "base_uri": "https://localhost:8080/"
        },
        "id": "UWmpH4bvrZ6r",
        "outputId": "8de13f0b-5b13-4974-b103-35a1079f460e"
      },
      "execution_count": 24,
      "outputs": [
        {
          "output_type": "stream",
          "name": "stderr",
          "text": [
            "INFO: LOCAL_RANK: 0 - CUDA_VISIBLE_DEVICES: [0]\n",
            "INFO:lightning.pytorch.accelerators.cuda:LOCAL_RANK: 0 - CUDA_VISIBLE_DEVICES: [0]\n"
          ]
        },
        {
          "output_type": "stream",
          "name": "stdout",
          "text": [
            "Val Loss: 0.2589 | Val Loss_m: 0.2196 | Val Loss_r: 0.0196\n",
            "Epoch 1 | Train Loss: 0.4351 | Train Loss_m: 0.2388 | Train Loss_r: 0.0981  Val Loss: 0.2349 | Val Loss_m: 0.2037 | Val Loss_r: 0.0156\n",
            "Epoch 5 | Train Loss: 0.2374 | Train Loss_m: 0.2064 | Train Loss_r: 0.0155  Val Loss: 0.2071 | Val Loss_m: 0.1762 | Val Loss_r: 0.0154\n",
            "Epoch 10 | Train Loss: 0.2093 | Train Loss_m: 0.1784 | Train Loss_r: 0.0155  Val Loss: 0.1911 | Val Loss_m: 0.1606 | Val Loss_r: 0.0152\n",
            "Epoch 15 | Train Loss: 0.1919 | Train Loss_m: 0.1614 | Train Loss_r: 0.0152  Val Loss: 0.1824 | Val Loss_m: 0.1524 | Val Loss_r: 0.0150\n",
            "Epoch 20 | Train Loss: 0.1829 | Train Loss_m: 0.1527 | Train Loss_r: 0.0151  Val Loss: 0.1773 | Val Loss_m: 0.1478 | Val Loss_r: 0.0147\n",
            "Epoch 25 | Train Loss: 0.1771 | Train Loss_m: 0.1475 | Train Loss_r: 0.0148  Val Loss: 0.1742 | Val Loss_m: 0.1444 | Val Loss_r: 0.0149\n",
            "Epoch 30 | Train Loss: 0.1739 | Train Loss_m: 0.1443 | Train Loss_r: 0.0148  Val Loss: 0.1713 | Val Loss_m: 0.1421 | Val Loss_r: 0.0146\n",
            "Epoch 35 | Train Loss: 0.1716 | Train Loss_m: 0.1423 | Train Loss_r: 0.0147  Val Loss: 0.1695 | Val Loss_m: 0.1405 | Val Loss_r: 0.0145\n",
            "Epoch 40 | Train Loss: 0.1701 | Train Loss_m: 0.1409 | Train Loss_r: 0.0146  Val Loss: 0.1683 | Val Loss_m: 0.1397 | Val Loss_r: 0.0143\n",
            "Epoch 45 | Train Loss: 0.1688 | Train Loss_m: 0.1398 | Train Loss_r: 0.0145  Val Loss: 0.1675 | Val Loss_m: 0.1388 | Val Loss_r: 0.0143\n",
            "Epoch 50 | Train Loss: 0.1678 | Train Loss_m: 0.1389 | Train Loss_r: 0.0144  "
          ]
        },
        {
          "output_type": "stream",
          "name": "stderr",
          "text": [
            "INFO: `Trainer.fit` stopped: `max_epochs=50` reached.\n",
            "INFO:lightning.pytorch.utilities.rank_zero:`Trainer.fit` stopped: `max_epochs=50` reached.\n"
          ]
        }
      ]
    },
    {
      "cell_type": "markdown",
      "source": [
        "### VIME Semi"
      ],
      "metadata": {
        "id": "0GyrAB0WkAsz"
      }
    },
    {
      "cell_type": "markdown",
      "source": [
        "- Create datamodule and model"
      ],
      "metadata": {
        "id": "4XNHwOUDkFEr"
      }
    },
    {
      "cell_type": "code",
      "source": [
        "dim = X_labeled.shape[1]"
      ],
      "metadata": {
        "id": "sUzVLATbkGka"
      },
      "execution_count": 25,
      "outputs": []
    },
    {
      "cell_type": "code",
      "source": [
        "semi_datamodule = VIMESemiDataModule(\n",
        "    X_unlabeled,\n",
        "    X_labeled,\n",
        "    y,\n",
        "    X_test,\n",
        "    train_size=args_semi.train_size,\n",
        "    labeled_batch_size=args_semi.labeled_batch_size,\n",
        "    unlabeled_batch_size=args_semi.unlabeled_batch_size,\n",
        "    seed=args_semi.seed,\n",
        ")"
      ],
      "metadata": {
        "id": "O606x9hWkJS7"
      },
      "execution_count": 26,
      "outputs": []
    },
    {
      "cell_type": "code",
      "source": [
        "best_model_path = checkpoint.best_model_path"
      ],
      "metadata": {
        "id": "LA5UYnLG_jCa"
      },
      "execution_count": 27,
      "outputs": []
    },
    {
      "cell_type": "code",
      "source": [
        "vime_self_best = VIMESelf.load_from_checkpoint(best_model_path)"
      ],
      "metadata": {
        "colab": {
          "base_uri": "https://localhost:8080/"
        },
        "id": "nRq6_xiSivq8",
        "outputId": "6f926a69-0f56-477a-d368-310dd6326186"
      },
      "execution_count": 28,
      "outputs": [
        {
          "output_type": "stream",
          "name": "stderr",
          "text": [
            "INFO: Global seed set to 26\n",
            "INFO:lightning.fabric.utilities.seed:Global seed set to 26\n"
          ]
        }
      ]
    },
    {
      "cell_type": "code",
      "source": [
        "pretrained_encoder = vime_self_best.encoder"
      ],
      "metadata": {
        "id": "kbs1mKr8j1ar"
      },
      "execution_count": 29,
      "outputs": []
    },
    {
      "cell_type": "code",
      "source": [
        "vime_semi = VIMESemi(\n",
        "    pretrained_encoder=pretrained_encoder,\n",
        "    in_features_list=[dim, 128],\n",
        "    out_features_list=[128, 128],\n",
        "    num_classes=args_semi.num_classes,\n",
        "    supervised_criterion=args_semi.supervised_criterion,\n",
        "    learning_rate=args_semi.learning_rate,\n",
        "    p_masking=args_semi.p_masking,\n",
        "    K=args_semi.K,\n",
        "    beta=args_semi.beta,\n",
        "    log_interval=args_semi.log_interval,\n",
        "    seed=args_semi.seed,\n",
        ")"
      ],
      "metadata": {
        "colab": {
          "base_uri": "https://localhost:8080/"
        },
        "id": "MJje5q80j7XT",
        "outputId": "d38b9fa0-a8ea-43e9-f79b-2946a904e123"
      },
      "execution_count": 30,
      "outputs": [
        {
          "output_type": "stream",
          "name": "stderr",
          "text": [
            "INFO: Global seed set to 26\n",
            "INFO:lightning.fabric.utilities.seed:Global seed set to 26\n"
          ]
        }
      ]
    },
    {
      "cell_type": "markdown",
      "source": [
        "- Train vime semi"
      ],
      "metadata": {
        "id": "pBZJVPIvuQ4-"
      }
    },
    {
      "cell_type": "code",
      "source": [
        "checkpoint = ModelCheckpoint(\n",
        "    dirpath=args_semi.weights_dirpath,\n",
        "    filename=\"vime_semi\",\n",
        "    monitor=\"val_loss\",\n",
        "    mode=\"min\",\n",
        "    save_weights_only=True,\n",
        ")\n",
        "\n",
        "early_stop = EarlyStopping(\n",
        "    monitor=\"val_loss\",\n",
        "    patience=20,\n",
        "    mode=\"min\",\n",
        ")"
      ],
      "metadata": {
        "id": "Wd6qnZBflzuz"
      },
      "execution_count": 31,
      "outputs": []
    },
    {
      "cell_type": "code",
      "source": [
        "trainer = pl.Trainer(\n",
        "    accelerator=\"gpu\",\n",
        "    devices=1,\n",
        "    logger=False,\n",
        "    callbacks=[checkpoint, early_stop],\n",
        "    max_epochs=args_semi.max_epochs,\n",
        "    num_sanity_val_steps=0,\n",
        "    enable_progress_bar=False, \n",
        "    enable_model_summary=False,\n",
        "    deterministic=True,\n",
        ")"
      ],
      "metadata": {
        "colab": {
          "base_uri": "https://localhost:8080/"
        },
        "id": "xR7JwkFnmTzi",
        "outputId": "5d6cce81-215c-46d6-f829-d48a92376b89"
      },
      "execution_count": 32,
      "outputs": [
        {
          "output_type": "stream",
          "name": "stderr",
          "text": [
            "INFO: GPU available: True (cuda), used: True\n",
            "INFO:lightning.pytorch.utilities.rank_zero:GPU available: True (cuda), used: True\n",
            "INFO: TPU available: False, using: 0 TPU cores\n",
            "INFO:lightning.pytorch.utilities.rank_zero:TPU available: False, using: 0 TPU cores\n",
            "INFO: IPU available: False, using: 0 IPUs\n",
            "INFO:lightning.pytorch.utilities.rank_zero:IPU available: False, using: 0 IPUs\n",
            "INFO: HPU available: False, using: 0 HPUs\n",
            "INFO:lightning.pytorch.utilities.rank_zero:HPU available: False, using: 0 HPUs\n"
          ]
        }
      ]
    },
    {
      "cell_type": "code",
      "source": [
        "trainer.fit(vime_semi, semi_datamodule)"
      ],
      "metadata": {
        "colab": {
          "base_uri": "https://localhost:8080/"
        },
        "id": "HZTVOGenmV1S",
        "outputId": "86991e5f-a2f5-49a1-e05c-2137ae010c15"
      },
      "execution_count": 33,
      "outputs": [
        {
          "output_type": "stream",
          "name": "stderr",
          "text": [
            "INFO: LOCAL_RANK: 0 - CUDA_VISIBLE_DEVICES: [0]\n",
            "INFO:lightning.pytorch.accelerators.cuda:LOCAL_RANK: 0 - CUDA_VISIBLE_DEVICES: [0]\n"
          ]
        },
        {
          "output_type": "stream",
          "name": "stdout",
          "text": [
            "Val Loss_s: 0.8024\n",
            "Epoch 1 | Train Loss: 1.8722 | Train Loss_s: 1.4047 | Train Loss_u: 0.4675  Val Loss_s: 0.5521\n",
            "Epoch 5 | Train Loss: 0.6824 | Train Loss_s: 0.4265 | Train Loss_u: 0.2559  Val Loss_s: 0.4939\n",
            "Epoch 10 | Train Loss: 0.4860 | Train Loss_s: 0.2690 | Train Loss_u: 0.2170  Val Loss_s: 0.4651\n",
            "Epoch 15 | Train Loss: 0.4274 | Train Loss_s: 0.2277 | Train Loss_u: 0.1998  Val Loss_s: 0.5001\n",
            "Epoch 20 | Train Loss: 0.3492 | Train Loss_s: 0.1574 | Train Loss_u: 0.1917  Val Loss_s: 0.4266\n",
            "Epoch 25 | Train Loss: 0.2984 | Train Loss_s: 0.1211 | Train Loss_u: 0.1773  Val Loss_s: 0.4370\n",
            "Epoch 30 | Train Loss: 0.3204 | Train Loss_s: 0.1589 | Train Loss_u: 0.1614  Val Loss_s: 0.4717\n",
            "Epoch 35 | Train Loss: 0.2912 | Train Loss_s: 0.1344 | Train Loss_u: 0.1568  Val Loss_s: 0.4541\n",
            "Epoch 40 | Train Loss: 0.2802 | Train Loss_s: 0.1218 | Train Loss_u: 0.1584  Val Loss_s: 0.4224\n",
            "Epoch 45 | Train Loss: 0.2790 | Train Loss_s: 0.1291 | Train Loss_u: 0.1499  Val Loss_s: 0.4567\n",
            "Epoch 50 | Train Loss: 0.3158 | Train Loss_s: 0.1674 | Train Loss_u: 0.1484  Val Loss_s: 0.4366\n",
            "Epoch 55 | Train Loss: 0.2589 | Train Loss_s: 0.1175 | Train Loss_u: 0.1414  Val Loss_s: 0.4638\n",
            "Epoch 60 | Train Loss: 0.2367 | Train Loss_s: 0.0978 | Train Loss_u: 0.1389  Val Loss_s: 0.4374\n",
            "Epoch 65 | Train Loss: 0.2444 | Train Loss_s: 0.1077 | Train Loss_u: 0.1368  "
          ]
        }
      ]
    },
    {
      "cell_type": "code",
      "source": [
        "pred = trainer.predict(vime_semi, semi_datamodule, ckpt_path=checkpoint.best_model_path)"
      ],
      "metadata": {
        "colab": {
          "base_uri": "https://localhost:8080/"
        },
        "id": "VgxmkrDLruVA",
        "outputId": "8efb4b95-ff4c-44fc-94ad-4179f07274ed"
      },
      "execution_count": 34,
      "outputs": [
        {
          "output_type": "stream",
          "name": "stderr",
          "text": [
            "INFO: Restoring states from the checkpoint path at /content/drive/MyDrive/Colab Notebooks/vime/vimesemi_weights/vime_semi.ckpt\n",
            "INFO:lightning.pytorch.utilities.rank_zero:Restoring states from the checkpoint path at /content/drive/MyDrive/Colab Notebooks/vime/vimesemi_weights/vime_semi.ckpt\n",
            "INFO: LOCAL_RANK: 0 - CUDA_VISIBLE_DEVICES: [0]\n",
            "INFO:lightning.pytorch.accelerators.cuda:LOCAL_RANK: 0 - CUDA_VISIBLE_DEVICES: [0]\n",
            "INFO: Loaded model weights from the checkpoint at /content/drive/MyDrive/Colab Notebooks/vime/vimesemi_weights/vime_semi.ckpt\n",
            "INFO:lightning.pytorch.utilities.rank_zero:Loaded model weights from the checkpoint at /content/drive/MyDrive/Colab Notebooks/vime/vimesemi_weights/vime_semi.ckpt\n"
          ]
        }
      ]
    },
    {
      "cell_type": "code",
      "source": [
        "pred = np.concatenate(pred).argmax(1)"
      ],
      "metadata": {
        "id": "mkczJNKve1Eq"
      },
      "execution_count": 35,
      "outputs": []
    },
    {
      "cell_type": "code",
      "source": [
        "accuracy_score(y_test, pred)"
      ],
      "metadata": {
        "colab": {
          "base_uri": "https://localhost:8080/"
        },
        "id": "uTcKCD-he2o6",
        "outputId": "5e2d7d7e-40bb-4aa7-f7c7-e4f6ea8ac63d"
      },
      "execution_count": 36,
      "outputs": [
        {
          "output_type": "execute_result",
          "data": {
            "text/plain": [
              "0.9114"
            ]
          },
          "metadata": {},
          "execution_count": 36
        }
      ]
    },
    {
      "cell_type": "code",
      "source": [],
      "metadata": {
        "id": "LsixfoYbak8q"
      },
      "execution_count": null,
      "outputs": []
    }
  ],
  "metadata": {
    "colab": {
      "provenance": [],
      "toc_visible": true,
      "gpuType": "T4",
      "include_colab_link": true
    },
    "gpuClass": "standard",
    "kernelspec": {
      "display_name": "Python 3 (ipykernel)",
      "language": "python",
      "name": "python3"
    },
    "language_info": {
      "codemirror_mode": {
        "name": "ipython",
        "version": 3
      },
      "file_extension": ".py",
      "mimetype": "text/x-python",
      "name": "python",
      "nbconvert_exporter": "python",
      "pygments_lexer": "ipython3",
      "version": "3.8.11"
    },
    "accelerator": "GPU"
  },
  "nbformat": 4,
  "nbformat_minor": 0
}
